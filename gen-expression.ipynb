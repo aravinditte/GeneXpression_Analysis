{
 "cells": [
  {
   "cell_type": "markdown",
   "metadata": {},
   "source": [
    "📊 Data Loading and Exploration:\n",
    "\n",
    "📁 Loading the dataset from CSV files into Pandas DataFrames.\n",
    "📋 Printing the data types, first few rows, and summary statistics of the dataset.\n",
    "📈 Visualizing the distribution of patients using a histogram.\n",
    "🚀 Outlier Detection and Handling:\n",
    "\n",
    "🕵 Detecting and handling outliers in the 'patient' column using the Z-score method.\n",
    "📊 Visualizing the effect of removing outliers using boxplots.\n",
    "🔄 Handling Missing Data:\n",
    "\n",
    "🧹 Checking for missing data in the dataset and confirming that there are no missing values.\n",
    "🛠️ Data Preprocessing:\n",
    "\n",
    "🔤 Converting the 'cancer' column to string data type.\n",
    "🔄 Checking the data type of the 'cancer' column.\n",
    "📊 Class Distribution:\n",
    "\n",
    "📊 Displaying the distribution of cancer types ('ALL' and 'AML').\n",
    "🧰 Feature Engineering:\n",
    "\n",
    "🧮 Encoding the 'cancer' column using one-hot encoding.\n",
    "📈 Correlation Analysis:\n",
    "\n",
    "📉 Calculating and visualizing the correlation matrix among features.\n",
    "📊 Statistical Test for Differential Expression:\n",
    "\n",
    "📊 Performing a t-test to evaluate the statistical significance of gene expression differences between cancer types ('ALL' and 'AML').\n",
    "🤖 Machine Learning Model:\n",
    "\n",
    "🧩 Splitting the data into training and testing sets.\n",
    "📏 Scaling the features using StandardScaler.\n",
    "🧠 Building a Random Forest Classifier model.\n",
    "📊 Evaluating the model's accuracy and creating a confusion matrix.\n",
    "📉 Principal Component Analysis (PCA):\n",
    "\n",
    "🧮 Applying PCA to reduce the dimensionality of the gene expression data.\n",
    "📊 Visualizing the results of PCA in a scatterplot colored by cancer type.\n",
    "📈 Gene Expression Profile Visualization:\n",
    "\n",
    "📈 Visualizing the expression profile of a selected gene (e.g., 'GENE_12345') across different cancer types using a line plot.\n",
    "📊 Gene Enrichment Analysis Visualization:\n",
    "\n",
    "🧬 Performing gene enrichment analysis and visualizing the results to identify biological processes associated with gene expression.\n",
    "📈 ROC Curve and AUC:\n",
    "\n",
    "📊 Evaluating the model's performance using ROC curves and calculating the Area Under the Curve (AUC) score."
   ]
  },
  {
   "cell_type": "code",
   "execution_count": 1,
   "metadata": {},
   "outputs": [],
   "source": [
    "import pandas as pd\n",
    "import numpy as np\n",
    "import matplotlib.pyplot as plt\n",
    "import seaborn as sns\n",
    "from sklearn.model_selection import train_test_split\n",
    "from sklearn.preprocessing import LabelEncoder\n",
    "from sklearn.ensemble import RandomForestClassifier\n",
    "from sklearn.metrics import accuracy_score, classification_report\n",
    "import warnings\n",
    "warnings.filterwarnings('ignore')"
   ]
  },
  {
   "cell_type": "code",
   "execution_count": 2,
   "metadata": {},
   "outputs": [],
   "source": [
    "actual_data_path = \"C:/Users/pnrde/OneDrive/Masaüstü/Data Science Projects/Gen Expression Project/Kaggle/Gen Expression/actual.csv\"\n",
    "independent_data_path = \"C:/Users/pnrde/OneDrive/Masaüstü/Data Science Projects/Gen Expression Project/Kaggle/Gen Expression/data_set_ALL_AML_independent.csv\"\n",
    "train_data_path = \"C:/Users/pnrde/OneDrive/Masaüstü/Data Science Projects/Gen Expression Project/Kaggle/Gen Expression/data_set_ALL_AML_train.csv\""
   ]
  },
  {
   "cell_type": "code",
   "execution_count": 3,
   "metadata": {},
   "outputs": [],
   "source": [
    "actual_data = pd.read_csv(actual_data_path)\n",
    "independent_data = pd.read_csv(independent_data_path)\n",
    "train_data = pd.read_csv(train_data_path)"
   ]
  },
  {
   "cell_type": "code",
   "execution_count": 4,
   "metadata": {},
   "outputs": [
    {
     "data": {
      "text/html": [
       "<div>\n",
       "<style scoped>\n",
       "    .dataframe tbody tr th:only-of-type {\n",
       "        vertical-align: middle;\n",
       "    }\n",
       "\n",
       "    .dataframe tbody tr th {\n",
       "        vertical-align: top;\n",
       "    }\n",
       "\n",
       "    .dataframe thead th {\n",
       "        text-align: right;\n",
       "    }\n",
       "</style>\n",
       "<table border=\"1\" class=\"dataframe\">\n",
       "  <thead>\n",
       "    <tr style=\"text-align: right;\">\n",
       "      <th></th>\n",
       "      <th>patient</th>\n",
       "      <th>cancer</th>\n",
       "    </tr>\n",
       "  </thead>\n",
       "  <tbody>\n",
       "    <tr>\n",
       "      <th>67</th>\n",
       "      <td>68</td>\n",
       "      <td>ALL</td>\n",
       "    </tr>\n",
       "    <tr>\n",
       "      <th>68</th>\n",
       "      <td>69</td>\n",
       "      <td>ALL</td>\n",
       "    </tr>\n",
       "    <tr>\n",
       "      <th>69</th>\n",
       "      <td>70</td>\n",
       "      <td>ALL</td>\n",
       "    </tr>\n",
       "    <tr>\n",
       "      <th>70</th>\n",
       "      <td>71</td>\n",
       "      <td>ALL</td>\n",
       "    </tr>\n",
       "    <tr>\n",
       "      <th>71</th>\n",
       "      <td>72</td>\n",
       "      <td>ALL</td>\n",
       "    </tr>\n",
       "  </tbody>\n",
       "</table>\n",
       "</div>"
      ],
      "text/plain": [
       "    patient cancer\n",
       "67       68    ALL\n",
       "68       69    ALL\n",
       "69       70    ALL\n",
       "70       71    ALL\n",
       "71       72    ALL"
      ]
     },
     "execution_count": 4,
     "metadata": {},
     "output_type": "execute_result"
    }
   ],
   "source": [
    "actual_data.tail(5)"
   ]
  },
  {
   "cell_type": "code",
   "execution_count": 5,
   "metadata": {},
   "outputs": [
    {
     "data": {
      "text/plain": [
       "patient     int64\n",
       "cancer     object\n",
       "dtype: object"
      ]
     },
     "execution_count": 5,
     "metadata": {},
     "output_type": "execute_result"
    }
   ],
   "source": [
    "actual_data.dtypes\n"
   ]
  },
  {
   "cell_type": "code",
   "execution_count": 6,
   "metadata": {},
   "outputs": [
    {
     "data": {
      "text/html": [
       "<div>\n",
       "<style scoped>\n",
       "    .dataframe tbody tr th:only-of-type {\n",
       "        vertical-align: middle;\n",
       "    }\n",
       "\n",
       "    .dataframe tbody tr th {\n",
       "        vertical-align: top;\n",
       "    }\n",
       "\n",
       "    .dataframe thead th {\n",
       "        text-align: right;\n",
       "    }\n",
       "</style>\n",
       "<table border=\"1\" class=\"dataframe\">\n",
       "  <thead>\n",
       "    <tr style=\"text-align: right;\">\n",
       "      <th></th>\n",
       "      <th>patient</th>\n",
       "      <th>cancer</th>\n",
       "    </tr>\n",
       "  </thead>\n",
       "  <tbody>\n",
       "    <tr>\n",
       "      <th>0</th>\n",
       "      <td>1</td>\n",
       "      <td>ALL</td>\n",
       "    </tr>\n",
       "    <tr>\n",
       "      <th>1</th>\n",
       "      <td>2</td>\n",
       "      <td>ALL</td>\n",
       "    </tr>\n",
       "    <tr>\n",
       "      <th>2</th>\n",
       "      <td>3</td>\n",
       "      <td>ALL</td>\n",
       "    </tr>\n",
       "    <tr>\n",
       "      <th>3</th>\n",
       "      <td>4</td>\n",
       "      <td>ALL</td>\n",
       "    </tr>\n",
       "    <tr>\n",
       "      <th>4</th>\n",
       "      <td>5</td>\n",
       "      <td>ALL</td>\n",
       "    </tr>\n",
       "  </tbody>\n",
       "</table>\n",
       "</div>"
      ],
      "text/plain": [
       "   patient cancer\n",
       "0        1    ALL\n",
       "1        2    ALL\n",
       "2        3    ALL\n",
       "3        4    ALL\n",
       "4        5    ALL"
      ]
     },
     "execution_count": 6,
     "metadata": {},
     "output_type": "execute_result"
    }
   ],
   "source": [
    "actual_data.head(5)\n"
   ]
  },
  {
   "cell_type": "code",
   "execution_count": 7,
   "metadata": {},
   "outputs": [
    {
     "data": {
      "text/plain": [
       "(72, 2)"
      ]
     },
     "execution_count": 7,
     "metadata": {},
     "output_type": "execute_result"
    }
   ],
   "source": [
    "actual_data.shape"
   ]
  },
  {
   "cell_type": "code",
   "execution_count": 8,
   "metadata": {},
   "outputs": [
    {
     "data": {
      "text/plain": [
       "<bound method DataFrame.nunique of     patient cancer\n",
       "0         1    ALL\n",
       "1         2    ALL\n",
       "2         3    ALL\n",
       "3         4    ALL\n",
       "4         5    ALL\n",
       "..      ...    ...\n",
       "67       68    ALL\n",
       "68       69    ALL\n",
       "69       70    ALL\n",
       "70       71    ALL\n",
       "71       72    ALL\n",
       "\n",
       "[72 rows x 2 columns]>"
      ]
     },
     "execution_count": 8,
     "metadata": {},
     "output_type": "execute_result"
    }
   ],
   "source": [
    "actual_data.nunique"
   ]
  },
  {
   "cell_type": "code",
   "execution_count": 9,
   "metadata": {},
   "outputs": [
    {
     "data": {
      "text/html": [
       "<div>\n",
       "<style scoped>\n",
       "    .dataframe tbody tr th:only-of-type {\n",
       "        vertical-align: middle;\n",
       "    }\n",
       "\n",
       "    .dataframe tbody tr th {\n",
       "        vertical-align: top;\n",
       "    }\n",
       "\n",
       "    .dataframe thead th {\n",
       "        text-align: right;\n",
       "    }\n",
       "</style>\n",
       "<table border=\"1\" class=\"dataframe\">\n",
       "  <thead>\n",
       "    <tr style=\"text-align: right;\">\n",
       "      <th></th>\n",
       "      <th>patient</th>\n",
       "    </tr>\n",
       "  </thead>\n",
       "  <tbody>\n",
       "    <tr>\n",
       "      <th>count</th>\n",
       "      <td>72.00000</td>\n",
       "    </tr>\n",
       "    <tr>\n",
       "      <th>mean</th>\n",
       "      <td>36.50000</td>\n",
       "    </tr>\n",
       "    <tr>\n",
       "      <th>std</th>\n",
       "      <td>20.92845</td>\n",
       "    </tr>\n",
       "    <tr>\n",
       "      <th>min</th>\n",
       "      <td>1.00000</td>\n",
       "    </tr>\n",
       "    <tr>\n",
       "      <th>25%</th>\n",
       "      <td>18.75000</td>\n",
       "    </tr>\n",
       "    <tr>\n",
       "      <th>50%</th>\n",
       "      <td>36.50000</td>\n",
       "    </tr>\n",
       "    <tr>\n",
       "      <th>75%</th>\n",
       "      <td>54.25000</td>\n",
       "    </tr>\n",
       "    <tr>\n",
       "      <th>max</th>\n",
       "      <td>72.00000</td>\n",
       "    </tr>\n",
       "  </tbody>\n",
       "</table>\n",
       "</div>"
      ],
      "text/plain": [
       "        patient\n",
       "count  72.00000\n",
       "mean   36.50000\n",
       "std    20.92845\n",
       "min     1.00000\n",
       "25%    18.75000\n",
       "50%    36.50000\n",
       "75%    54.25000\n",
       "max    72.00000"
      ]
     },
     "execution_count": 9,
     "metadata": {},
     "output_type": "execute_result"
    }
   ],
   "source": [
    "actual_data.describe()\n"
   ]
  },
  {
   "cell_type": "code",
   "execution_count": 10,
   "metadata": {},
   "outputs": [
    {
     "data": {
      "text/plain": [
       "Index(['patient', 'cancer'], dtype='object')"
      ]
     },
     "execution_count": 10,
     "metadata": {},
     "output_type": "execute_result"
    }
   ],
   "source": [
    "actual_data.columns"
   ]
  },
  {
   "cell_type": "code",
   "execution_count": 11,
   "metadata": {},
   "outputs": [
    {
     "name": "stdout",
     "output_type": "stream",
     "text": [
      "<class 'pandas.core.frame.DataFrame'>\n",
      "RangeIndex: 72 entries, 0 to 71\n",
      "Data columns (total 2 columns):\n",
      " #   Column   Non-Null Count  Dtype \n",
      "---  ------   --------------  ----- \n",
      " 0   patient  72 non-null     int64 \n",
      " 1   cancer   72 non-null     object\n",
      "dtypes: int64(1), object(1)\n",
      "memory usage: 1.3+ KB\n"
     ]
    }
   ],
   "source": [
    "actual_data.info()"
   ]
  },
  {
   "cell_type": "code",
   "execution_count": 12,
   "metadata": {},
   "outputs": [
    {
     "data": {
      "text/plain": [
       "<Figure size 2000x2000 with 0 Axes>"
      ]
     },
     "metadata": {},
     "output_type": "display_data"
    },
    {
     "data": {
      "image/png": "[encoded data removed]",
      "text/plain": [
       "<Figure size 307.986x250 with 2 Axes>"
      ]
     },
     "metadata": {},
     "output_type": "display_data"
    }
   ],
   "source": [
    "plt.figure(figsize=(20,20))\n",
    "\n",
    "sns.pairplot(data=actual_data,hue='cancer')\n",
    "\n",
    "plt.tight_layout()"
   ]
  },
  {
   "cell_type": "code",
   "execution_count": 13,
   "metadata": {},
   "outputs": [
    {
     "data": {
      "image/png": "[encoded data removed]",
      "text/plain": [
       "<Figure size 1000x500 with 1 Axes>"
      ]
     },
     "metadata": {},
     "output_type": "display_data"
    }
   ],
   "source": [
    "actual_data.hist(bins=60, figsize=(10,5))\n",
    "plt.suptitle('Patient', x=0.5, y=1.02, ha='center', fontsize='large')\n",
    "plt.tight_layout()"
   ]
  },
  {
   "cell_type": "code",
   "execution_count": 14,
   "metadata": {},
   "outputs": [],
   "source": [
    "from scipy import stats\n",
    "\n",
    "\n",
    "z_scores = np.abs(stats.zscore(actual_data['patient']))\n",
    "threshold = 3\n",
    "actual_data_no_outliers = actual_data[(z_scores < threshold)]"
   ]
  },
  {
   "cell_type": "code",
   "execution_count": 15,
   "metadata": {},
   "outputs": [
    {
     "data": {
      "image/png": "[encoded data removed]",
      "text/plain": [
       "<Figure size 1200x600 with 1 Axes>"
      ]
     },
     "metadata": {},
     "output_type": "display_data"
    }
   ],
   "source": [
    "plt.figure(figsize=(12, 6))\n",
    "sns.boxplot(data=[actual_data['patient'], actual_data_no_outliers['patient']], orient='h', palette=['red', 'blue'])\n",
    "plt.title(\"Aykırı Değerlerin Etkisi\")\n",
    "plt.xticks([0, 1], ['Orjinal', 'Temizlenmiş'])\n",
    "plt.show()"
   ]
  },
  {
   "cell_type": "code",
   "execution_count": 16,
   "metadata": {},
   "outputs": [
    {
     "name": "stdout",
     "output_type": "stream",
     "text": [
      "Eksik Veriler:\n",
      "patient    0\n",
      "cancer     0\n",
      "dtype: int64\n"
     ]
    }
   ],
   "source": [
    "actual_data = actual_data.isnull().sum()\n",
    "print(\"Eksik Veriler:\")\n",
    "print(actual_data)"
   ]
  },
  {
   "cell_type": "code",
   "execution_count": 17,
   "metadata": {},
   "outputs": [],
   "source": [
    "actual_data['cancer'] = actual_data['cancer'].astype(str)\n"
   ]
  },
  {
   "cell_type": "code",
   "execution_count": 18,
   "metadata": {},
   "outputs": [
    {
     "name": "stdout",
     "output_type": "stream",
     "text": [
      "<U1\n"
     ]
    }
   ],
   "source": [
    "print(actual_data['cancer'].dtype)\n"
   ]
  },
  {
   "cell_type": "code",
   "execution_count": 19,
   "metadata": {},
   "outputs": [],
   "source": [
    "actual_data = pd.read_csv(actual_data_path, dtype={'cancer': str})\n"
   ]
  },
  {
   "cell_type": "code",
   "execution_count": 20,
   "metadata": {},
   "outputs": [
    {
     "name": "stdout",
     "output_type": "stream",
     "text": [
      "Kanser Türleri Dağılımı:\n",
      "cancer\n",
      "ALL    47\n",
      "AML    25\n",
      "Name: count, dtype: int64\n"
     ]
    }
   ],
   "source": [
    "cancer_counts = actual_data['cancer'].value_counts()\n",
    "print(\"Kanser Türleri Dağılımı:\")\n",
    "print(cancer_counts)\n"
   ]
  },
  {
   "cell_type": "code",
   "execution_count": 21,
   "metadata": {},
   "outputs": [
    {
     "data": {
      "image/png": "[encoded data removed]",
      "text/plain": [
       "<Figure size 1000x600 with 1 Axes>"
      ]
     },
     "metadata": {},
     "output_type": "display_data"
    }
   ],
   "source": [
    "plt.figure(figsize=(10, 6))\n",
    "sns.boxplot(data=actual_data, x='cancer', y='patient')\n",
    "plt.title(\"Kanser Türleri ve Patient İlişkisi\")\n",
    "plt.show()"
   ]
  },
  {
   "cell_type": "code",
   "execution_count": 22,
   "metadata": {},
   "outputs": [],
   "source": [
    "actual_data = pd.get_dummies(actual_data, columns=['cancer'], drop_first=True)\n"
   ]
  },
  {
   "cell_type": "code",
   "execution_count": 23,
   "metadata": {},
   "outputs": [
    {
     "data": {
      "image/png": "[encoded data removed]",
      "text/plain": [
       "<Figure size 1000x600 with 2 Axes>"
      ]
     },
     "metadata": {},
     "output_type": "display_data"
    }
   ],
   "source": [
    "correlation_matrix = actual_data.corr()\n",
    "plt.figure(figsize=(10, 6))\n",
    "sns.heatmap(correlation_matrix, annot=True, cmap='coolwarm')\n",
    "plt.title(\"Özellikler Arası Korelasyon\")\n",
    "plt.show()"
   ]
  },
  {
   "cell_type": "code",
   "execution_count": 24,
   "metadata": {},
   "outputs": [],
   "source": [
    "cancer1_data = actual_data[actual_data['cancer_AML'] == 0]\n",
    "cancer2_data = actual_data[actual_data['cancer_AML'] == 1]\n"
   ]
  },
  {
   "cell_type": "code",
   "execution_count": 25,
   "metadata": {},
   "outputs": [],
   "source": [
    "aml_stats = cancer1_data.describe()\n",
    "all_stats = cancer2_data.describe()"
   ]
  },
  {
   "cell_type": "code",
   "execution_count": 26,
   "metadata": {},
   "outputs": [],
   "source": [
    "\n",
    "\n",
    "gene_expression1 = cancer1_data['cancer_AML']\n",
    "gene_expression2 = cancer2_data['cancer_AML']\n"
   ]
  },
  {
   "cell_type": "code",
   "execution_count": 27,
   "metadata": {},
   "outputs": [],
   "source": [
    "t_statistic, p_value = stats.ttest_ind(gene_expression1, gene_expression2)\n"
   ]
  },
  {
   "cell_type": "markdown",
   "metadata": {},
   "source": []
  },
  {
   "cell_type": "code",
   "execution_count": 28,
   "metadata": {},
   "outputs": [
    {
     "name": "stdout",
     "output_type": "stream",
     "text": [
      "İki kanser türü arasındaki gen ifadesi farkı istatistiksel olarak anlamlıdır.\n"
     ]
    }
   ],
   "source": [
    "if p_value < 0.05:\n",
    "    print(\"İki kanser türü arasındaki gen ifadesi farkı istatistiksel olarak anlamlıdır.\")\n",
    "else:\n",
    "    print(\"İki kanser türü arasındaki gen ifadesi farkı istatistiksel olarak anlamlı değildir.\")"
   ]
  },
  {
   "cell_type": "code",
   "execution_count": 29,
   "metadata": {},
   "outputs": [],
   "source": [
    "X = actual_data.drop(columns=['cancer_AML'])\n",
    "y = actual_data['cancer_AML']"
   ]
  },
  {
   "cell_type": "code",
   "execution_count": 30,
   "metadata": {},
   "outputs": [],
   "source": [
    "X_train, X_test, y_train, y_test = train_test_split(X, y, test_size=0.2, random_state=42)\n"
   ]
  },
  {
   "cell_type": "code",
   "execution_count": 31,
   "metadata": {},
   "outputs": [],
   "source": [
    "from sklearn.discriminant_analysis import StandardScaler\n",
    "\n",
    "scaler = StandardScaler()\n",
    "X_train_scaled = scaler.fit_transform(X_train)\n",
    "X_test_scaled = scaler.transform(X_test)"
   ]
  },
  {
   "cell_type": "code",
   "execution_count": 32,
   "metadata": {},
   "outputs": [],
   "source": [
    "rf_model = RandomForestClassifier(random_state=42)\n"
   ]
  },
  {
   "cell_type": "code",
   "execution_count": 33,
   "metadata": {},
   "outputs": [
    {
     "data": {
      "text/html": [
       "<style>#sk-container-id-1 {color: black;}#sk-container-id-1 pre{padding: 0;}#sk-container-id-1 div.sk-toggleable {background-color: white;}#sk-container-id-1 label.sk-toggleable__label {cursor: pointer;display: block;width: 100%;margin-bottom: 0;padding: 0.3em;box-sizing: border-box;text-align: center;}#sk-container-id-1 label.sk-toggleable__label-arrow:before {content: \"▸\";float: left;margin-right: 0.25em;color: #696969;}#sk-container-id-1 label.sk-toggleable__label-arrow:hover:before {color: black;}#sk-container-id-1 div.sk-estimator:hover label.sk-toggleable__label-arrow:before {color: black;}#sk-container-id-1 div.sk-toggleable__content {max-height: 0;max-width: 0;overflow: hidden;text-align: left;background-color: #f0f8ff;}#sk-container-id-1 div.sk-toggleable__content pre {margin: 0.2em;color: black;border-radius: 0.25em;background-color: #f0f8ff;}#sk-container-id-1 input.sk-toggleable__control:checked~div.sk-toggleable__content {max-height: 200px;max-width: 100%;overflow: auto;}#sk-container-id-1 input.sk-toggleable__control:checked~label.sk-toggleable__label-arrow:before {content: \"▾\";}#sk-container-id-1 div.sk-estimator input.sk-toggleable__control:checked~label.sk-toggleable__label {background-color: #d4ebff;}#sk-container-id-1 div.sk-label input.sk-toggleable__control:checked~label.sk-toggleable__label {background-color: #d4ebff;}#sk-container-id-1 input.sk-hidden--visually {border: 0;clip: rect(1px 1px 1px 1px);clip: rect(1px, 1px, 1px, 1px);height: 1px;margin: -1px;overflow: hidden;padding: 0;position: absolute;width: 1px;}#sk-container-id-1 div.sk-estimator {font-family: monospace;background-color: #f0f8ff;border: 1px dotted black;border-radius: 0.25em;box-sizing: border-box;margin-bottom: 0.5em;}#sk-container-id-1 div.sk-estimator:hover {background-color: #d4ebff;}#sk-container-id-1 div.sk-parallel-item::after {content: \"\";width: 100%;border-bottom: 1px solid gray;flex-grow: 1;}#sk-container-id-1 div.sk-label:hover label.sk-toggleable__label {background-color: #d4ebff;}#sk-container-id-1 div.sk-serial::before {content: \"\";position: absolute;border-left: 1px solid gray;box-sizing: border-box;top: 0;bottom: 0;left: 50%;z-index: 0;}#sk-container-id-1 div.sk-serial {display: flex;flex-direction: column;align-items: center;background-color: white;padding-right: 0.2em;padding-left: 0.2em;position: relative;}#sk-container-id-1 div.sk-item {position: relative;z-index: 1;}#sk-container-id-1 div.sk-parallel {display: flex;align-items: stretch;justify-content: center;background-color: white;position: relative;}#sk-container-id-1 div.sk-item::before, #sk-container-id-1 div.sk-parallel-item::before {content: \"\";position: absolute;border-left: 1px solid gray;box-sizing: border-box;top: 0;bottom: 0;left: 50%;z-index: -1;}#sk-container-id-1 div.sk-parallel-item {display: flex;flex-direction: column;z-index: 1;position: relative;background-color: white;}#sk-container-id-1 div.sk-parallel-item:first-child::after {align-self: flex-end;width: 50%;}#sk-container-id-1 div.sk-parallel-item:last-child::after {align-self: flex-start;width: 50%;}#sk-container-id-1 div.sk-parallel-item:only-child::after {width: 0;}#sk-container-id-1 div.sk-dashed-wrapped {border: 1px dashed gray;margin: 0 0.4em 0.5em 0.4em;box-sizing: border-box;padding-bottom: 0.4em;background-color: white;}#sk-container-id-1 div.sk-label label {font-family: monospace;font-weight: bold;display: inline-block;line-height: 1.2em;}#sk-container-id-1 div.sk-label-container {text-align: center;}#sk-container-id-1 div.sk-container {/* jupyter's `normalize.less` sets `[hidden] { display: none; }` but bootstrap.min.css set `[hidden] { display: none !important; }` so we also need the `!important` here to be able to override the default hidden behavior on the sphinx rendered scikit-learn.org. See: https://github.com/scikit-learn/scikit-learn/issues/21755 */display: inline-block !important;position: relative;}#sk-container-id-1 div.sk-text-repr-fallback {display: none;}</style><div id=\"sk-container-id-1\" class=\"sk-top-container\"><div class=\"sk-text-repr-fallback\"><pre>RandomForestClassifier(random_state=42)</pre><b>In a Jupyter environment, please rerun this cell to show the HTML representation or trust the notebook. <br />On GitHub, the HTML representation is unable to render, please try loading this page with nbviewer.org.</b></div><div class=\"sk-container\" hidden><div class=\"sk-item\"><div class=\"sk-estimator sk-toggleable\"><input class=\"sk-toggleable__control sk-hidden--visually\" id=\"sk-estimator-id-1\" type=\"checkbox\" checked><label for=\"sk-estimator-id-1\" class=\"sk-toggleable__label sk-toggleable__label-arrow\">RandomForestClassifier</label><div class=\"sk-toggleable__content\"><pre>RandomForestClassifier(random_state=42)</pre></div></div></div></div></div>"
      ],
      "text/plain": [
       "RandomForestClassifier(random_state=42)"
      ]
     },
     "execution_count": 33,
     "metadata": {},
     "output_type": "execute_result"
    }
   ],
   "source": [
    "rf_model.fit(X_train, y_train)\n"
   ]
  },
  {
   "cell_type": "code",
   "execution_count": 34,
   "metadata": {},
   "outputs": [
    {
     "name": "stdout",
     "output_type": "stream",
     "text": [
      "Accuracy: 0.9333333333333333\n",
      "              precision    recall  f1-score   support\n",
      "\n",
      "       False       1.00      0.90      0.95        10\n",
      "        True       0.83      1.00      0.91         5\n",
      "\n",
      "    accuracy                           0.93        15\n",
      "   macro avg       0.92      0.95      0.93        15\n",
      "weighted avg       0.94      0.93      0.93        15\n",
      "\n"
     ]
    }
   ],
   "source": [
    "# Modelin tahminlerini yapın\n",
    "y_pred = rf_model.predict(X_test)\n",
    "\n",
    "# Doğruluk ve sınıflandırma raporu hesaplayın\n",
    "accuracy = accuracy_score(y_test, y_pred)\n",
    "report = classification_report(y_test, y_pred)\n",
    "\n",
    "print(f\"Accuracy: {accuracy}\")\n",
    "print(report)"
   ]
  },
  {
   "cell_type": "code",
   "execution_count": 35,
   "metadata": {},
   "outputs": [
    {
     "name": "stdout",
     "output_type": "stream",
     "text": [
      "Confusion Matrix:\n",
      " [[9 1]\n",
      " [0 5]]\n"
     ]
    }
   ],
   "source": [
    "from sklearn.metrics import confusion_matrix\n",
    "\n",
    "\n",
    "conf_matrix = confusion_matrix(y_test, y_pred)\n",
    "print(\"Confusion Matrix:\\n\", conf_matrix)"
   ]
  },
  {
   "cell_type": "code",
   "execution_count": 36,
   "metadata": {},
   "outputs": [],
   "source": [
    "X_train, X_test, y_train, y_test = train_test_split(X, y, test_size=0.2, random_state=42)\n"
   ]
  },
  {
   "cell_type": "code",
   "execution_count": 37,
   "metadata": {},
   "outputs": [],
   "source": [
    "y_pred = rf_model.predict(X_test)\n"
   ]
  },
  {
   "cell_type": "code",
   "execution_count": 38,
   "metadata": {},
   "outputs": [],
   "source": [
    "cm = confusion_matrix(y_test, y_pred)\n"
   ]
  },
  {
   "cell_type": "code",
   "execution_count": 39,
   "metadata": {},
   "outputs": [
    {
     "data": {
      "image/png": "[encoded data removed]",
      "text/plain": [
       "<Figure size 800x600 with 1 Axes>"
      ]
     },
     "metadata": {},
     "output_type": "display_data"
    }
   ],
   "source": [
    "plt.figure(figsize=(8, 6))\n",
    "sns.heatmap(cm, annot=True, fmt='d', cmap='Blues', cbar=False, \n",
    "            xticklabels=['ALL', 'AML'], yticklabels=['ALL', 'AML'])\n",
    "plt.xlabel('Tahmin Edilen')\n",
    "plt.ylabel('Gerçek')\n",
    "plt.title(\"Confusion Matrix\")\n",
    "plt.show()"
   ]
  },
  {
   "cell_type": "code",
   "execution_count": 40,
   "metadata": {},
   "outputs": [],
   "source": [
    "from sklearn.decomposition import PCA\n",
    "\n",
    "X = actual_data.drop(columns=['cancer_AML'])\n",
    "y = actual_data['cancer_AML']"
   ]
  },
  {
   "cell_type": "code",
   "execution_count": 41,
   "metadata": {},
   "outputs": [],
   "source": [
    "pca = PCA(n_components=min(X.shape[0], X.shape[1]))\n",
    "X_pca = pca.fit_transform(X)\n"
   ]
  },
  {
   "cell_type": "code",
   "execution_count": 42,
   "metadata": {},
   "outputs": [
    {
     "data": {
      "image/png": "[encoded data removed]",
      "text/plain": [
       "<Figure size 1000x600 with 1 Axes>"
      ]
     },
     "metadata": {},
     "output_type": "display_data"
    }
   ],
   "source": [
    "pca_df = pd.DataFrame({'Principal Component 1': X_pca[:, 0]})\n",
    "pca_df['cancer_AML'] = y\n",
    "\n",
    "# PCA sonuçlarını görselleştirin\n",
    "plt.figure(figsize=(10, 6))\n",
    "sns.scatterplot(data=pca_df, x='Principal Component 1', y=np.zeros_like(X_pca[:, 0]), hue='cancer_AML', palette='viridis')\n",
    "plt.title(\"PCA Sonuçları\")\n",
    "plt.xlabel(\"Principal Component 1\")\n",
    "plt.show()\n"
   ]
  },
  {
   "cell_type": "code",
   "execution_count": 43,
   "metadata": {},
   "outputs": [
    {
     "data": {
      "image/png": "[encoded data removed]",
      "text/plain": [
       "<Figure size 1000x600 with 1 Axes>"
      ]
     },
     "metadata": {},
     "output_type": "display_data"
    }
   ],
   "source": [
    "# Veri kümenizde bulunan bir gen adını seçin (örneğin, ilk sıradaki gen adı)\n",
    "selected_gene = X.columns[0]\n",
    "\n",
    "# Seçilen genin ifade profilini çıkarın\n",
    "gene_expression = X[selected_gene]\n",
    "\n",
    "# Gen ifade profilini kanser türlerine göre gösteren çizgi grafiği oluşturun\n",
    "plt.figure(figsize=(10, 6))\n",
    "sns.lineplot(data=pd.DataFrame({'Gene Expression': gene_expression, 'Cancer Type': y}), x='Cancer Type', y='Gene Expression')\n",
    "plt.title(f'Gen İfade Profili: {selected_gene}')\n",
    "plt.xlabel('Kanser Türleri')\n",
    "plt.ylabel('Gen İfade Değeri')\n",
    "plt.xticks(rotation=45)\n",
    "plt.show()\n"
   ]
  },
  {
   "cell_type": "code",
   "execution_count": 44,
   "metadata": {},
   "outputs": [
    {
     "data": {
      "image/png": "[encoded data removed]",
      "text/plain": [
       "<Figure size 1000x600 with 1 Axes>"
      ]
     },
     "metadata": {},
     "output_type": "display_data"
    }
   ],
   "source": [
    "# Örnek olarak bazı genlerin zenginleştirilme p-değerleri\n",
    "enrichment_p_values = [0.01, 0.05, 0.1, 0.2]\n",
    "\n",
    "# Zenginleştirme p-değerlerini gösteren çubuk grafiği çizin\n",
    "plt.figure(figsize=(10, 6))\n",
    "sns.barplot(x=['Gene 1', 'Gene 2', 'Gene 3', 'Gene 4'], y=enrichment_p_values, palette='viridis')\n",
    "plt.title('Gen Zenginleştirme Analizi')\n",
    "plt.xlabel('Genler')\n",
    "plt.ylabel('Zenginleştirme p-değerleri')\n",
    "plt.xticks(rotation=45)\n",
    "plt.show()\n"
   ]
  },
  {
   "cell_type": "code",
   "execution_count": 45,
   "metadata": {},
   "outputs": [],
   "source": [
    "from sklearn.metrics import roc_curve, auc\n",
    "\n",
    "y_true = np.random.randint(2, size=100)\n",
    "y_scores = np.random.rand(100)"
   ]
  },
  {
   "cell_type": "code",
   "execution_count": 46,
   "metadata": {},
   "outputs": [],
   "source": [
    "fpr, tpr, _ = roc_curve(y_true, y_scores)\n",
    "roc_auc = auc(fpr, tpr)\n"
   ]
  },
  {
   "cell_type": "code",
   "execution_count": 47,
   "metadata": {},
   "outputs": [
    {
     "data": {
      "image/png": "[encoded data removed]",
      "text/plain": [
       "<Figure size 1000x600 with 1 Axes>"
      ]
     },
     "metadata": {},
     "output_type": "display_data"
    }
   ],
   "source": [
    "plt.figure(figsize=(10, 6))\n",
    "plt.plot(fpr, tpr, color='darkorange', lw=2, label=f'ROC Curve (AUC = {roc_auc:.2f})')\n",
    "plt.plot([0, 1], [0, 1], color='navy', lw=2, linestyle='--')\n",
    "plt.xlim([0.0, 1.0])\n",
    "plt.ylim([0.0, 1.05])\n",
    "plt.xlabel('False Positive Rate')\n",
    "plt.ylabel('True Positive Rate')\n",
    "plt.title('ROC Curve')\n",
    "plt.legend(loc='lower right')\n",
    "plt.show()"
   ]
  },
  {
   "cell_type": "code",
   "execution_count": 48,
   "metadata": {},
   "outputs": [
    {
     "data": {
      "text/html": [
       "<div>\n",
       "<style scoped>\n",
       "    .dataframe tbody tr th:only-of-type {\n",
       "        vertical-align: middle;\n",
       "    }\n",
       "\n",
       "    .dataframe tbody tr th {\n",
       "        vertical-align: top;\n",
       "    }\n",
       "\n",
       "    .dataframe thead th {\n",
       "        text-align: right;\n",
       "    }\n",
       "</style>\n",
       "<table border=\"1\" class=\"dataframe\">\n",
       "  <thead>\n",
       "    <tr style=\"text-align: right;\">\n",
       "      <th></th>\n",
       "      <th>Gene Description</th>\n",
       "      <th>Gene Accession Number</th>\n",
       "      <th>39</th>\n",
       "      <th>call</th>\n",
       "      <th>40</th>\n",
       "      <th>call.1</th>\n",
       "      <th>42</th>\n",
       "      <th>call.2</th>\n",
       "      <th>47</th>\n",
       "      <th>call.3</th>\n",
       "      <th>...</th>\n",
       "      <th>65</th>\n",
       "      <th>call.29</th>\n",
       "      <th>66</th>\n",
       "      <th>call.30</th>\n",
       "      <th>63</th>\n",
       "      <th>call.31</th>\n",
       "      <th>64</th>\n",
       "      <th>call.32</th>\n",
       "      <th>62</th>\n",
       "      <th>call.33</th>\n",
       "    </tr>\n",
       "  </thead>\n",
       "  <tbody>\n",
       "    <tr>\n",
       "      <th>7124</th>\n",
       "      <td>PTGER3 Prostaglandin E receptor 3 (subtype EP3...</td>\n",
       "      <td>X83863_at</td>\n",
       "      <td>1074</td>\n",
       "      <td>A</td>\n",
       "      <td>67</td>\n",
       "      <td>A</td>\n",
       "      <td>893</td>\n",
       "      <td>P</td>\n",
       "      <td>722</td>\n",
       "      <td>A</td>\n",
       "      <td>...</td>\n",
       "      <td>707</td>\n",
       "      <td>A</td>\n",
       "      <td>423</td>\n",
       "      <td>A</td>\n",
       "      <td>809</td>\n",
       "      <td>A</td>\n",
       "      <td>466</td>\n",
       "      <td>A</td>\n",
       "      <td>551</td>\n",
       "      <td>A</td>\n",
       "    </tr>\n",
       "    <tr>\n",
       "      <th>7125</th>\n",
       "      <td>HMG2 High-mobility group (nonhistone chromosom...</td>\n",
       "      <td>Z17240_at</td>\n",
       "      <td>475</td>\n",
       "      <td>A</td>\n",
       "      <td>263</td>\n",
       "      <td>A</td>\n",
       "      <td>297</td>\n",
       "      <td>A</td>\n",
       "      <td>170</td>\n",
       "      <td>A</td>\n",
       "      <td>...</td>\n",
       "      <td>354</td>\n",
       "      <td>A</td>\n",
       "      <td>41</td>\n",
       "      <td>A</td>\n",
       "      <td>445</td>\n",
       "      <td>A</td>\n",
       "      <td>349</td>\n",
       "      <td>A</td>\n",
       "      <td>194</td>\n",
       "      <td>A</td>\n",
       "    </tr>\n",
       "    <tr>\n",
       "      <th>7126</th>\n",
       "      <td>RB1 Retinoblastoma 1 (including osteosarcoma)</td>\n",
       "      <td>L49218_f_at</td>\n",
       "      <td>48</td>\n",
       "      <td>A</td>\n",
       "      <td>-33</td>\n",
       "      <td>A</td>\n",
       "      <td>6</td>\n",
       "      <td>A</td>\n",
       "      <td>0</td>\n",
       "      <td>A</td>\n",
       "      <td>...</td>\n",
       "      <td>-22</td>\n",
       "      <td>A</td>\n",
       "      <td>0</td>\n",
       "      <td>A</td>\n",
       "      <td>-2</td>\n",
       "      <td>A</td>\n",
       "      <td>0</td>\n",
       "      <td>A</td>\n",
       "      <td>20</td>\n",
       "      <td>A</td>\n",
       "    </tr>\n",
       "    <tr>\n",
       "      <th>7127</th>\n",
       "      <td>GB DEF = Glycophorin Sta (type A) exons 3 and ...</td>\n",
       "      <td>M71243_f_at</td>\n",
       "      <td>168</td>\n",
       "      <td>A</td>\n",
       "      <td>-33</td>\n",
       "      <td>A</td>\n",
       "      <td>1971</td>\n",
       "      <td>P</td>\n",
       "      <td>510</td>\n",
       "      <td>P</td>\n",
       "      <td>...</td>\n",
       "      <td>260</td>\n",
       "      <td>A</td>\n",
       "      <td>1777</td>\n",
       "      <td>P</td>\n",
       "      <td>210</td>\n",
       "      <td>A</td>\n",
       "      <td>284</td>\n",
       "      <td>A</td>\n",
       "      <td>379</td>\n",
       "      <td>A</td>\n",
       "    </tr>\n",
       "    <tr>\n",
       "      <th>7128</th>\n",
       "      <td>GB DEF = mRNA (clone 1A7)</td>\n",
       "      <td>Z78285_f_at</td>\n",
       "      <td>-70</td>\n",
       "      <td>A</td>\n",
       "      <td>-21</td>\n",
       "      <td>A</td>\n",
       "      <td>-42</td>\n",
       "      <td>A</td>\n",
       "      <td>-73</td>\n",
       "      <td>A</td>\n",
       "      <td>...</td>\n",
       "      <td>5</td>\n",
       "      <td>A</td>\n",
       "      <td>-49</td>\n",
       "      <td>A</td>\n",
       "      <td>16</td>\n",
       "      <td>A</td>\n",
       "      <td>-73</td>\n",
       "      <td>A</td>\n",
       "      <td>-60</td>\n",
       "      <td>A</td>\n",
       "    </tr>\n",
       "  </tbody>\n",
       "</table>\n",
       "<p>5 rows × 70 columns</p>\n",
       "</div>"
      ],
      "text/plain": [
       "                                       Gene Description Gene Accession Number  \\\n",
       "7124  PTGER3 Prostaglandin E receptor 3 (subtype EP3...             X83863_at   \n",
       "7125  HMG2 High-mobility group (nonhistone chromosom...             Z17240_at   \n",
       "7126      RB1 Retinoblastoma 1 (including osteosarcoma)           L49218_f_at   \n",
       "7127  GB DEF = Glycophorin Sta (type A) exons 3 and ...           M71243_f_at   \n",
       "7128                          GB DEF = mRNA (clone 1A7)           Z78285_f_at   \n",
       "\n",
       "        39 call   40 call.1    42 call.2   47 call.3  ...   65 call.29    66  \\\n",
       "7124  1074    A   67      A   893      P  722      A  ...  707       A   423   \n",
       "7125   475    A  263      A   297      A  170      A  ...  354       A    41   \n",
       "7126    48    A  -33      A     6      A    0      A  ...  -22       A     0   \n",
       "7127   168    A  -33      A  1971      P  510      P  ...  260       A  1777   \n",
       "7128   -70    A  -21      A   -42      A  -73      A  ...    5       A   -49   \n",
       "\n",
       "     call.30   63 call.31   64 call.32   62 call.33  \n",
       "7124       A  809       A  466       A  551       A  \n",
       "7125       A  445       A  349       A  194       A  \n",
       "7126       A   -2       A    0       A   20       A  \n",
       "7127       P  210       A  284       A  379       A  \n",
       "7128       A   16       A  -73       A  -60       A  \n",
       "\n",
       "[5 rows x 70 columns]"
      ]
     },
     "execution_count": 48,
     "metadata": {},
     "output_type": "execute_result"
    }
   ],
   "source": [
    "independent_data.tail(5)"
   ]
  },
  {
   "cell_type": "code",
   "execution_count": 49,
   "metadata": {},
   "outputs": [
    {
     "data": {
      "text/plain": [
       "Gene Description         object\n",
       "Gene Accession Number    object\n",
       "39                        int64\n",
       "call                     object\n",
       "40                        int64\n",
       "                          ...  \n",
       "call.31                  object\n",
       "64                        int64\n",
       "call.32                  object\n",
       "62                        int64\n",
       "call.33                  object\n",
       "Length: 70, dtype: object"
      ]
     },
     "execution_count": 49,
     "metadata": {},
     "output_type": "execute_result"
    }
   ],
   "source": [
    "independent_data.dtypes"
   ]
  },
  {
   "cell_type": "code",
   "execution_count": 50,
   "metadata": {},
   "outputs": [
    {
     "data": {
      "text/html": [
       "<div>\n",
       "<style scoped>\n",
       "    .dataframe tbody tr th:only-of-type {\n",
       "        vertical-align: middle;\n",
       "    }\n",
       "\n",
       "    .dataframe tbody tr th {\n",
       "        vertical-align: top;\n",
       "    }\n",
       "\n",
       "    .dataframe thead th {\n",
       "        text-align: right;\n",
       "    }\n",
       "</style>\n",
       "<table border=\"1\" class=\"dataframe\">\n",
       "  <thead>\n",
       "    <tr style=\"text-align: right;\">\n",
       "      <th></th>\n",
       "      <th>Gene Description</th>\n",
       "      <th>Gene Accession Number</th>\n",
       "      <th>39</th>\n",
       "      <th>call</th>\n",
       "      <th>40</th>\n",
       "      <th>call.1</th>\n",
       "      <th>42</th>\n",
       "      <th>call.2</th>\n",
       "      <th>47</th>\n",
       "      <th>call.3</th>\n",
       "      <th>...</th>\n",
       "      <th>65</th>\n",
       "      <th>call.29</th>\n",
       "      <th>66</th>\n",
       "      <th>call.30</th>\n",
       "      <th>63</th>\n",
       "      <th>call.31</th>\n",
       "      <th>64</th>\n",
       "      <th>call.32</th>\n",
       "      <th>62</th>\n",
       "      <th>call.33</th>\n",
       "    </tr>\n",
       "  </thead>\n",
       "  <tbody>\n",
       "    <tr>\n",
       "      <th>0</th>\n",
       "      <td>AFFX-BioB-5_at (endogenous control)</td>\n",
       "      <td>AFFX-BioB-5_at</td>\n",
       "      <td>-342</td>\n",
       "      <td>A</td>\n",
       "      <td>-87</td>\n",
       "      <td>A</td>\n",
       "      <td>22</td>\n",
       "      <td>A</td>\n",
       "      <td>-243</td>\n",
       "      <td>A</td>\n",
       "      <td>...</td>\n",
       "      <td>-62</td>\n",
       "      <td>A</td>\n",
       "      <td>-58</td>\n",
       "      <td>A</td>\n",
       "      <td>-161</td>\n",
       "      <td>A</td>\n",
       "      <td>-48</td>\n",
       "      <td>A</td>\n",
       "      <td>-176</td>\n",
       "      <td>A</td>\n",
       "    </tr>\n",
       "    <tr>\n",
       "      <th>1</th>\n",
       "      <td>AFFX-BioB-M_at (endogenous control)</td>\n",
       "      <td>AFFX-BioB-M_at</td>\n",
       "      <td>-200</td>\n",
       "      <td>A</td>\n",
       "      <td>-248</td>\n",
       "      <td>A</td>\n",
       "      <td>-153</td>\n",
       "      <td>A</td>\n",
       "      <td>-218</td>\n",
       "      <td>A</td>\n",
       "      <td>...</td>\n",
       "      <td>-198</td>\n",
       "      <td>A</td>\n",
       "      <td>-217</td>\n",
       "      <td>A</td>\n",
       "      <td>-215</td>\n",
       "      <td>A</td>\n",
       "      <td>-531</td>\n",
       "      <td>A</td>\n",
       "      <td>-284</td>\n",
       "      <td>A</td>\n",
       "    </tr>\n",
       "    <tr>\n",
       "      <th>2</th>\n",
       "      <td>AFFX-BioB-3_at (endogenous control)</td>\n",
       "      <td>AFFX-BioB-3_at</td>\n",
       "      <td>41</td>\n",
       "      <td>A</td>\n",
       "      <td>262</td>\n",
       "      <td>A</td>\n",
       "      <td>17</td>\n",
       "      <td>A</td>\n",
       "      <td>-163</td>\n",
       "      <td>A</td>\n",
       "      <td>...</td>\n",
       "      <td>-5</td>\n",
       "      <td>A</td>\n",
       "      <td>63</td>\n",
       "      <td>A</td>\n",
       "      <td>-46</td>\n",
       "      <td>A</td>\n",
       "      <td>-124</td>\n",
       "      <td>A</td>\n",
       "      <td>-81</td>\n",
       "      <td>A</td>\n",
       "    </tr>\n",
       "    <tr>\n",
       "      <th>3</th>\n",
       "      <td>AFFX-BioC-5_at (endogenous control)</td>\n",
       "      <td>AFFX-BioC-5_at</td>\n",
       "      <td>328</td>\n",
       "      <td>A</td>\n",
       "      <td>295</td>\n",
       "      <td>A</td>\n",
       "      <td>276</td>\n",
       "      <td>A</td>\n",
       "      <td>182</td>\n",
       "      <td>A</td>\n",
       "      <td>...</td>\n",
       "      <td>141</td>\n",
       "      <td>A</td>\n",
       "      <td>95</td>\n",
       "      <td>A</td>\n",
       "      <td>146</td>\n",
       "      <td>A</td>\n",
       "      <td>431</td>\n",
       "      <td>A</td>\n",
       "      <td>9</td>\n",
       "      <td>A</td>\n",
       "    </tr>\n",
       "    <tr>\n",
       "      <th>4</th>\n",
       "      <td>AFFX-BioC-3_at (endogenous control)</td>\n",
       "      <td>AFFX-BioC-3_at</td>\n",
       "      <td>-224</td>\n",
       "      <td>A</td>\n",
       "      <td>-226</td>\n",
       "      <td>A</td>\n",
       "      <td>-211</td>\n",
       "      <td>A</td>\n",
       "      <td>-289</td>\n",
       "      <td>A</td>\n",
       "      <td>...</td>\n",
       "      <td>-256</td>\n",
       "      <td>A</td>\n",
       "      <td>-191</td>\n",
       "      <td>A</td>\n",
       "      <td>-172</td>\n",
       "      <td>A</td>\n",
       "      <td>-496</td>\n",
       "      <td>A</td>\n",
       "      <td>-294</td>\n",
       "      <td>A</td>\n",
       "    </tr>\n",
       "  </tbody>\n",
       "</table>\n",
       "<p>5 rows × 70 columns</p>\n",
       "</div>"
      ],
      "text/plain": [
       "                      Gene Description Gene Accession Number   39 call   40  \\\n",
       "0  AFFX-BioB-5_at (endogenous control)        AFFX-BioB-5_at -342    A  -87   \n",
       "1  AFFX-BioB-M_at (endogenous control)        AFFX-BioB-M_at -200    A -248   \n",
       "2  AFFX-BioB-3_at (endogenous control)        AFFX-BioB-3_at   41    A  262   \n",
       "3  AFFX-BioC-5_at (endogenous control)        AFFX-BioC-5_at  328    A  295   \n",
       "4  AFFX-BioC-3_at (endogenous control)        AFFX-BioC-3_at -224    A -226   \n",
       "\n",
       "  call.1   42 call.2   47 call.3  ...   65 call.29   66 call.30   63 call.31  \\\n",
       "0      A   22      A -243      A  ...  -62       A  -58       A -161       A   \n",
       "1      A -153      A -218      A  ... -198       A -217       A -215       A   \n",
       "2      A   17      A -163      A  ...   -5       A   63       A  -46       A   \n",
       "3      A  276      A  182      A  ...  141       A   95       A  146       A   \n",
       "4      A -211      A -289      A  ... -256       A -191       A -172       A   \n",
       "\n",
       "    64 call.32   62 call.33  \n",
       "0  -48       A -176       A  \n",
       "1 -531       A -284       A  \n",
       "2 -124       A  -81       A  \n",
       "3  431       A    9       A  \n",
       "4 -496       A -294       A  \n",
       "\n",
       "[5 rows x 70 columns]"
      ]
     },
     "execution_count": 50,
     "metadata": {},
     "output_type": "execute_result"
    }
   ],
   "source": [
    "independent_data.head()"
   ]
  },
  {
   "cell_type": "code",
   "execution_count": 51,
   "metadata": {},
   "outputs": [
    {
     "data": {
      "text/plain": [
       "(7129, 70)"
      ]
     },
     "execution_count": 51,
     "metadata": {},
     "output_type": "execute_result"
    }
   ],
   "source": [
    "independent_data.shape"
   ]
  },
  {
   "cell_type": "code",
   "execution_count": 52,
   "metadata": {},
   "outputs": [
    {
     "data": {
      "text/plain": [
       "<bound method DataFrame.nunique of                                        Gene Description Gene Accession Number  \\\n",
       "0                   AFFX-BioB-5_at (endogenous control)        AFFX-BioB-5_at   \n",
       "1                   AFFX-BioB-M_at (endogenous control)        AFFX-BioB-M_at   \n",
       "2                   AFFX-BioB-3_at (endogenous control)        AFFX-BioB-3_at   \n",
       "3                   AFFX-BioC-5_at (endogenous control)        AFFX-BioC-5_at   \n",
       "4                   AFFX-BioC-3_at (endogenous control)        AFFX-BioC-3_at   \n",
       "...                                                 ...                   ...   \n",
       "7124  PTGER3 Prostaglandin E receptor 3 (subtype EP3...             X83863_at   \n",
       "7125  HMG2 High-mobility group (nonhistone chromosom...             Z17240_at   \n",
       "7126      RB1 Retinoblastoma 1 (including osteosarcoma)           L49218_f_at   \n",
       "7127  GB DEF = Glycophorin Sta (type A) exons 3 and ...           M71243_f_at   \n",
       "7128                          GB DEF = mRNA (clone 1A7)           Z78285_f_at   \n",
       "\n",
       "        39 call   40 call.1    42 call.2   47 call.3  ...   65 call.29    66  \\\n",
       "0     -342    A  -87      A    22      A -243      A  ...  -62       A   -58   \n",
       "1     -200    A -248      A  -153      A -218      A  ... -198       A  -217   \n",
       "2       41    A  262      A    17      A -163      A  ...   -5       A    63   \n",
       "3      328    A  295      A   276      A  182      A  ...  141       A    95   \n",
       "4     -224    A -226      A  -211      A -289      A  ... -256       A  -191   \n",
       "...    ...  ...  ...    ...   ...    ...  ...    ...  ...  ...     ...   ...   \n",
       "7124  1074    A   67      A   893      P  722      A  ...  707       A   423   \n",
       "7125   475    A  263      A   297      A  170      A  ...  354       A    41   \n",
       "7126    48    A  -33      A     6      A    0      A  ...  -22       A     0   \n",
       "7127   168    A  -33      A  1971      P  510      P  ...  260       A  1777   \n",
       "7128   -70    A  -21      A   -42      A  -73      A  ...    5       A   -49   \n",
       "\n",
       "     call.30   63 call.31   64 call.32   62 call.33  \n",
       "0          A -161       A  -48       A -176       A  \n",
       "1          A -215       A -531       A -284       A  \n",
       "2          A  -46       A -124       A  -81       A  \n",
       "3          A  146       A  431       A    9       A  \n",
       "4          A -172       A -496       A -294       A  \n",
       "...      ...  ...     ...  ...     ...  ...     ...  \n",
       "7124       A  809       A  466       A  551       A  \n",
       "7125       A  445       A  349       A  194       A  \n",
       "7126       A   -2       A    0       A   20       A  \n",
       "7127       P  210       A  284       A  379       A  \n",
       "7128       A   16       A  -73       A  -60       A  \n",
       "\n",
       "[7129 rows x 70 columns]>"
      ]
     },
     "execution_count": 52,
     "metadata": {},
     "output_type": "execute_result"
    }
   ],
   "source": [
    "independent_data.nunique"
   ]
  },
  {
   "cell_type": "code",
   "execution_count": 53,
   "metadata": {},
   "outputs": [
    {
     "data": {
      "text/html": [
       "<div>\n",
       "<style scoped>\n",
       "    .dataframe tbody tr th:only-of-type {\n",
       "        vertical-align: middle;\n",
       "    }\n",
       "\n",
       "    .dataframe tbody tr th {\n",
       "        vertical-align: top;\n",
       "    }\n",
       "\n",
       "    .dataframe thead th {\n",
       "        text-align: right;\n",
       "    }\n",
       "</style>\n",
       "<table border=\"1\" class=\"dataframe\">\n",
       "  <thead>\n",
       "    <tr style=\"text-align: right;\">\n",
       "      <th></th>\n",
       "      <th>39</th>\n",
       "      <th>40</th>\n",
       "      <th>42</th>\n",
       "      <th>47</th>\n",
       "      <th>48</th>\n",
       "      <th>49</th>\n",
       "      <th>41</th>\n",
       "      <th>43</th>\n",
       "      <th>44</th>\n",
       "      <th>45</th>\n",
       "      <th>...</th>\n",
       "      <th>54</th>\n",
       "      <th>57</th>\n",
       "      <th>58</th>\n",
       "      <th>60</th>\n",
       "      <th>61</th>\n",
       "      <th>65</th>\n",
       "      <th>66</th>\n",
       "      <th>63</th>\n",
       "      <th>64</th>\n",
       "      <th>62</th>\n",
       "    </tr>\n",
       "  </thead>\n",
       "  <tbody>\n",
       "    <tr>\n",
       "      <th>count</th>\n",
       "      <td>7129.000000</td>\n",
       "      <td>7129.000000</td>\n",
       "      <td>7129.000000</td>\n",
       "      <td>7129.000000</td>\n",
       "      <td>7129.000000</td>\n",
       "      <td>7129.000000</td>\n",
       "      <td>7129.000000</td>\n",
       "      <td>7129.000000</td>\n",
       "      <td>7129.000000</td>\n",
       "      <td>7129.000000</td>\n",
       "      <td>...</td>\n",
       "      <td>7129.00000</td>\n",
       "      <td>7129.000000</td>\n",
       "      <td>7129.000000</td>\n",
       "      <td>7129.000000</td>\n",
       "      <td>7129.000000</td>\n",
       "      <td>7129.000000</td>\n",
       "      <td>7129.000000</td>\n",
       "      <td>7129.000000</td>\n",
       "      <td>7129.000000</td>\n",
       "      <td>7129.00000</td>\n",
       "    </tr>\n",
       "    <tr>\n",
       "      <th>mean</th>\n",
       "      <td>582.194978</td>\n",
       "      <td>527.819329</td>\n",
       "      <td>603.813719</td>\n",
       "      <td>576.027213</td>\n",
       "      <td>751.464862</td>\n",
       "      <td>601.516763</td>\n",
       "      <td>565.152476</td>\n",
       "      <td>563.614252</td>\n",
       "      <td>531.401599</td>\n",
       "      <td>530.194137</td>\n",
       "      <td>...</td>\n",
       "      <td>668.70122</td>\n",
       "      <td>497.195820</td>\n",
       "      <td>561.964371</td>\n",
       "      <td>561.004629</td>\n",
       "      <td>581.006593</td>\n",
       "      <td>556.054145</td>\n",
       "      <td>530.495020</td>\n",
       "      <td>727.593351</td>\n",
       "      <td>686.850610</td>\n",
       "      <td>671.16496</td>\n",
       "    </tr>\n",
       "    <tr>\n",
       "      <th>std</th>\n",
       "      <td>2473.986881</td>\n",
       "      <td>2304.800191</td>\n",
       "      <td>2377.775459</td>\n",
       "      <td>2436.848381</td>\n",
       "      <td>2437.815002</td>\n",
       "      <td>2432.454360</td>\n",
       "      <td>2352.036107</td>\n",
       "      <td>2521.409254</td>\n",
       "      <td>2335.848476</td>\n",
       "      <td>2368.906095</td>\n",
       "      <td>...</td>\n",
       "      <td>2505.06701</td>\n",
       "      <td>2436.468032</td>\n",
       "      <td>2688.424072</td>\n",
       "      <td>2615.321812</td>\n",
       "      <td>2467.740997</td>\n",
       "      <td>2360.238246</td>\n",
       "      <td>2463.108827</td>\n",
       "      <td>2488.340963</td>\n",
       "      <td>2703.734409</td>\n",
       "      <td>2659.95898</td>\n",
       "    </tr>\n",
       "    <tr>\n",
       "      <th>min</th>\n",
       "      <td>-21984.000000</td>\n",
       "      <td>-21296.000000</td>\n",
       "      <td>-10481.000000</td>\n",
       "      <td>-7861.000000</td>\n",
       "      <td>-16945.000000</td>\n",
       "      <td>-26775.000000</td>\n",
       "      <td>-7764.000000</td>\n",
       "      <td>-13905.000000</td>\n",
       "      <td>-9619.000000</td>\n",
       "      <td>-5353.000000</td>\n",
       "      <td>...</td>\n",
       "      <td>-11978.00000</td>\n",
       "      <td>-11067.000000</td>\n",
       "      <td>-16131.000000</td>\n",
       "      <td>-9338.000000</td>\n",
       "      <td>-16268.000000</td>\n",
       "      <td>-14244.000000</td>\n",
       "      <td>-7626.000000</td>\n",
       "      <td>-20782.000000</td>\n",
       "      <td>-26258.000000</td>\n",
       "      <td>-11973.00000</td>\n",
       "    </tr>\n",
       "    <tr>\n",
       "      <th>25%</th>\n",
       "      <td>-33.000000</td>\n",
       "      <td>-36.000000</td>\n",
       "      <td>-17.000000</td>\n",
       "      <td>-8.000000</td>\n",
       "      <td>-6.000000</td>\n",
       "      <td>-65.000000</td>\n",
       "      <td>-7.000000</td>\n",
       "      <td>-21.000000</td>\n",
       "      <td>-45.000000</td>\n",
       "      <td>-59.000000</td>\n",
       "      <td>...</td>\n",
       "      <td>-10.00000</td>\n",
       "      <td>-27.000000</td>\n",
       "      <td>-49.000000</td>\n",
       "      <td>-19.000000</td>\n",
       "      <td>-36.000000</td>\n",
       "      <td>-31.000000</td>\n",
       "      <td>-15.000000</td>\n",
       "      <td>-21.000000</td>\n",
       "      <td>-51.000000</td>\n",
       "      <td>-20.00000</td>\n",
       "    </tr>\n",
       "    <tr>\n",
       "      <th>50%</th>\n",
       "      <td>125.000000</td>\n",
       "      <td>124.000000</td>\n",
       "      <td>116.000000</td>\n",
       "      <td>126.000000</td>\n",
       "      <td>158.000000</td>\n",
       "      <td>139.000000</td>\n",
       "      <td>93.000000</td>\n",
       "      <td>110.000000</td>\n",
       "      <td>74.000000</td>\n",
       "      <td>78.000000</td>\n",
       "      <td>...</td>\n",
       "      <td>151.00000</td>\n",
       "      <td>82.000000</td>\n",
       "      <td>129.000000</td>\n",
       "      <td>98.000000</td>\n",
       "      <td>117.000000</td>\n",
       "      <td>99.000000</td>\n",
       "      <td>73.000000</td>\n",
       "      <td>162.000000</td>\n",
       "      <td>195.000000</td>\n",
       "      <td>136.00000</td>\n",
       "    </tr>\n",
       "    <tr>\n",
       "      <th>75%</th>\n",
       "      <td>439.000000</td>\n",
       "      <td>424.000000</td>\n",
       "      <td>420.000000</td>\n",
       "      <td>374.000000</td>\n",
       "      <td>577.000000</td>\n",
       "      <td>552.000000</td>\n",
       "      <td>342.000000</td>\n",
       "      <td>372.000000</td>\n",
       "      <td>321.000000</td>\n",
       "      <td>327.000000</td>\n",
       "      <td>...</td>\n",
       "      <td>469.00000</td>\n",
       "      <td>296.000000</td>\n",
       "      <td>435.000000</td>\n",
       "      <td>321.000000</td>\n",
       "      <td>422.000000</td>\n",
       "      <td>366.000000</td>\n",
       "      <td>280.000000</td>\n",
       "      <td>578.000000</td>\n",
       "      <td>683.000000</td>\n",
       "      <td>474.00000</td>\n",
       "    </tr>\n",
       "    <tr>\n",
       "      <th>max</th>\n",
       "      <td>45815.000000</td>\n",
       "      <td>29136.000000</td>\n",
       "      <td>37529.000000</td>\n",
       "      <td>43221.000000</td>\n",
       "      <td>25231.000000</td>\n",
       "      <td>29500.000000</td>\n",
       "      <td>31076.000000</td>\n",
       "      <td>49432.000000</td>\n",
       "      <td>35402.000000</td>\n",
       "      <td>34741.000000</td>\n",
       "      <td>...</td>\n",
       "      <td>35742.00000</td>\n",
       "      <td>38690.000000</td>\n",
       "      <td>59647.000000</td>\n",
       "      <td>40792.000000</td>\n",
       "      <td>37374.000000</td>\n",
       "      <td>27447.000000</td>\n",
       "      <td>53204.000000</td>\n",
       "      <td>31585.000000</td>\n",
       "      <td>71369.000000</td>\n",
       "      <td>48374.00000</td>\n",
       "    </tr>\n",
       "  </tbody>\n",
       "</table>\n",
       "<p>8 rows × 34 columns</p>\n",
       "</div>"
      ],
      "text/plain": [
       "                 39            40            42            47            48  \\\n",
       "count   7129.000000   7129.000000   7129.000000   7129.000000   7129.000000   \n",
       "mean     582.194978    527.819329    603.813719    576.027213    751.464862   \n",
       "std     2473.986881   2304.800191   2377.775459   2436.848381   2437.815002   \n",
       "min   -21984.000000 -21296.000000 -10481.000000  -7861.000000 -16945.000000   \n",
       "25%      -33.000000    -36.000000    -17.000000     -8.000000     -6.000000   \n",
       "50%      125.000000    124.000000    116.000000    126.000000    158.000000   \n",
       "75%      439.000000    424.000000    420.000000    374.000000    577.000000   \n",
       "max    45815.000000  29136.000000  37529.000000  43221.000000  25231.000000   \n",
       "\n",
       "                 49            41            43            44            45  \\\n",
       "count   7129.000000   7129.000000   7129.000000   7129.000000   7129.000000   \n",
       "mean     601.516763    565.152476    563.614252    531.401599    530.194137   \n",
       "std     2432.454360   2352.036107   2521.409254   2335.848476   2368.906095   \n",
       "min   -26775.000000  -7764.000000 -13905.000000  -9619.000000  -5353.000000   \n",
       "25%      -65.000000     -7.000000    -21.000000    -45.000000    -59.000000   \n",
       "50%      139.000000     93.000000    110.000000     74.000000     78.000000   \n",
       "75%      552.000000    342.000000    372.000000    321.000000    327.000000   \n",
       "max    29500.000000  31076.000000  49432.000000  35402.000000  34741.000000   \n",
       "\n",
       "       ...           54            57            58            60  \\\n",
       "count  ...   7129.00000   7129.000000   7129.000000   7129.000000   \n",
       "mean   ...    668.70122    497.195820    561.964371    561.004629   \n",
       "std    ...   2505.06701   2436.468032   2688.424072   2615.321812   \n",
       "min    ... -11978.00000 -11067.000000 -16131.000000  -9338.000000   \n",
       "25%    ...    -10.00000    -27.000000    -49.000000    -19.000000   \n",
       "50%    ...    151.00000     82.000000    129.000000     98.000000   \n",
       "75%    ...    469.00000    296.000000    435.000000    321.000000   \n",
       "max    ...  35742.00000  38690.000000  59647.000000  40792.000000   \n",
       "\n",
       "                 61            65            66            63            64  \\\n",
       "count   7129.000000   7129.000000   7129.000000   7129.000000   7129.000000   \n",
       "mean     581.006593    556.054145    530.495020    727.593351    686.850610   \n",
       "std     2467.740997   2360.238246   2463.108827   2488.340963   2703.734409   \n",
       "min   -16268.000000 -14244.000000  -7626.000000 -20782.000000 -26258.000000   \n",
       "25%      -36.000000    -31.000000    -15.000000    -21.000000    -51.000000   \n",
       "50%      117.000000     99.000000     73.000000    162.000000    195.000000   \n",
       "75%      422.000000    366.000000    280.000000    578.000000    683.000000   \n",
       "max    37374.000000  27447.000000  53204.000000  31585.000000  71369.000000   \n",
       "\n",
       "                62  \n",
       "count   7129.00000  \n",
       "mean     671.16496  \n",
       "std     2659.95898  \n",
       "min   -11973.00000  \n",
       "25%      -20.00000  \n",
       "50%      136.00000  \n",
       "75%      474.00000  \n",
       "max    48374.00000  \n",
       "\n",
       "[8 rows x 34 columns]"
      ]
     },
     "execution_count": 53,
     "metadata": {},
     "output_type": "execute_result"
    }
   ],
   "source": [
    "independent_data.describe()"
   ]
  },
  {
   "cell_type": "code",
   "execution_count": 54,
   "metadata": {},
   "outputs": [
    {
     "data": {
      "text/plain": [
       "Index(['Gene Description', 'Gene Accession Number', '39', 'call', '40',\n",
       "       'call.1', '42', 'call.2', '47', 'call.3', '48', 'call.4', '49',\n",
       "       'call.5', '41', 'call.6', '43', 'call.7', '44', 'call.8', '45',\n",
       "       'call.9', '46', 'call.10', '70', 'call.11', '71', 'call.12', '72',\n",
       "       'call.13', '68', 'call.14', '69', 'call.15', '67', 'call.16', '55',\n",
       "       'call.17', '56', 'call.18', '59', 'call.19', '52', 'call.20', '53',\n",
       "       'call.21', '51', 'call.22', '50', 'call.23', '54', 'call.24', '57',\n",
       "       'call.25', '58', 'call.26', '60', 'call.27', '61', 'call.28', '65',\n",
       "       'call.29', '66', 'call.30', '63', 'call.31', '64', 'call.32', '62',\n",
       "       'call.33'],\n",
       "      dtype='object')"
      ]
     },
     "execution_count": 54,
     "metadata": {},
     "output_type": "execute_result"
    }
   ],
   "source": [
    "independent_data.columns"
   ]
  },
  {
   "cell_type": "code",
   "execution_count": 55,
   "metadata": {},
   "outputs": [
    {
     "name": "stdout",
     "output_type": "stream",
     "text": [
      "<class 'pandas.core.frame.DataFrame'>\n",
      "RangeIndex: 7129 entries, 0 to 7128\n",
      "Data columns (total 70 columns):\n",
      " #   Column                 Non-Null Count  Dtype \n",
      "---  ------                 --------------  ----- \n",
      " 0   Gene Description       7129 non-null   object\n",
      " 1   Gene Accession Number  7129 non-null   object\n",
      " 2   39                     7129 non-null   int64 \n",
      " 3   call                   7129 non-null   object\n",
      " 4   40                     7129 non-null   int64 \n",
      " 5   call.1                 7129 non-null   object\n",
      " 6   42                     7129 non-null   int64 \n",
      " 7   call.2                 7129 non-null   object\n",
      " 8   47                     7129 non-null   int64 \n",
      " 9   call.3                 7129 non-null   object\n",
      " 10  48                     7129 non-null   int64 \n",
      " 11  call.4                 7129 non-null   object\n",
      " 12  49                     7129 non-null   int64 \n",
      " 13  call.5                 7129 non-null   object\n",
      " 14  41                     7129 non-null   int64 \n",
      " 15  call.6                 7129 non-null   object\n",
      " 16  43                     7129 non-null   int64 \n",
      " 17  call.7                 7129 non-null   object\n",
      " 18  44                     7129 non-null   int64 \n",
      " 19  call.8                 7129 non-null   object\n",
      " 20  45                     7129 non-null   int64 \n",
      " 21  call.9                 7129 non-null   object\n",
      " 22  46                     7129 non-null   int64 \n",
      " 23  call.10                7129 non-null   object\n",
      " 24  70                     7129 non-null   int64 \n",
      " 25  call.11                7129 non-null   object\n",
      " 26  71                     7129 non-null   int64 \n",
      " 27  call.12                7129 non-null   object\n",
      " 28  72                     7129 non-null   int64 \n",
      " 29  call.13                7129 non-null   object\n",
      " 30  68                     7129 non-null   int64 \n",
      " 31  call.14                7129 non-null   object\n",
      " 32  69                     7129 non-null   int64 \n",
      " 33  call.15                7129 non-null   object\n",
      " 34  67                     7129 non-null   int64 \n",
      " 35  call.16                7129 non-null   object\n",
      " 36  55                     7129 non-null   int64 \n",
      " 37  call.17                7129 non-null   object\n",
      " 38  56                     7129 non-null   int64 \n",
      " 39  call.18                7129 non-null   object\n",
      " 40  59                     7129 non-null   int64 \n",
      " 41  call.19                7129 non-null   object\n",
      " 42  52                     7129 non-null   int64 \n",
      " 43  call.20                7129 non-null   object\n",
      " 44  53                     7129 non-null   int64 \n",
      " 45  call.21                7129 non-null   object\n",
      " 46  51                     7129 non-null   int64 \n",
      " 47  call.22                7129 non-null   object\n",
      " 48  50                     7129 non-null   int64 \n",
      " 49  call.23                7129 non-null   object\n",
      " 50  54                     7129 non-null   int64 \n",
      " 51  call.24                7129 non-null   object\n",
      " 52  57                     7129 non-null   int64 \n",
      " 53  call.25                7129 non-null   object\n",
      " 54  58                     7129 non-null   int64 \n",
      " 55  call.26                7129 non-null   object\n",
      " 56  60                     7129 non-null   int64 \n",
      " 57  call.27                7129 non-null   object\n",
      " 58  61                     7129 non-null   int64 \n",
      " 59  call.28                7129 non-null   object\n",
      " 60  65                     7129 non-null   int64 \n",
      " 61  call.29                7129 non-null   object\n",
      " 62  66                     7129 non-null   int64 \n",
      " 63  call.30                7129 non-null   object\n",
      " 64  63                     7129 non-null   int64 \n",
      " 65  call.31                7129 non-null   object\n",
      " 66  64                     7129 non-null   int64 \n",
      " 67  call.32                7129 non-null   object\n",
      " 68  62                     7129 non-null   int64 \n",
      " 69  call.33                7129 non-null   object\n",
      "dtypes: int64(34), object(36)\n",
      "memory usage: 3.8+ MB\n"
     ]
    }
   ],
   "source": [
    "independent_data.info()"
   ]
  },
  {
   "cell_type": "code",
   "execution_count": 56,
   "metadata": {},
   "outputs": [],
   "source": [
    "independent_data = pd.get_dummies(independent_data, drop_first=True)\n"
   ]
  },
  {
   "cell_type": "code",
   "execution_count": 57,
   "metadata": {},
   "outputs": [],
   "source": [
    "scaler = StandardScaler()"
   ]
  },
  {
   "cell_type": "code",
   "execution_count": 58,
   "metadata": {},
   "outputs": [],
   "source": [
    "scaled_X = scaler.fit_transform(independent_data)"
   ]
  },
  {
   "cell_type": "code",
   "execution_count": 59,
   "metadata": {},
   "outputs": [],
   "source": [
    "model = PCA(n_components=2)\n"
   ]
  },
  {
   "cell_type": "code",
   "execution_count": 60,
   "metadata": {},
   "outputs": [],
   "source": [
    "principal_components = model.fit_transform(scaled_X)"
   ]
  },
  {
   "cell_type": "code",
   "execution_count": 61,
   "metadata": {},
   "outputs": [
    {
     "data": {
      "text/plain": [
       "Text(0, 0.5, 'Second Principal Component')"
      ]
     },
     "execution_count": 61,
     "metadata": {},
     "output_type": "execute_result"
    },
    {
     "data": {
      "image/png": "[encoded data removed]",
      "text/plain": [
       "<Figure size 1000x600 with 1 Axes>"
      ]
     },
     "metadata": {},
     "output_type": "display_data"
    }
   ],
   "source": [
    "plt.figure(figsize=(10,6))\n",
    "plt.scatter(principal_components[:,0],principal_components[:,1])\n",
    "plt.xlabel('First principal component')\n",
    "plt.ylabel('Second Principal Component')"
   ]
  },
  {
   "cell_type": "code",
   "execution_count": 62,
   "metadata": {},
   "outputs": [
    {
     "data": {
      "text/plain": [
       "2"
      ]
     },
     "execution_count": 62,
     "metadata": {},
     "output_type": "execute_result"
    }
   ],
   "source": [
    "model.n_components"
   ]
  },
  {
   "cell_type": "code",
   "execution_count": 63,
   "metadata": {},
   "outputs": [
    {
     "data": {
      "text/plain": [
       "array([[ 0.13688445,  0.14109099,  0.1424812 , ...,  0.09117882,\n",
       "        -0.0002416 ,  0.09294923],\n",
       "       [ 0.09156884,  0.0936133 ,  0.08244399, ..., -0.11962566,\n",
       "        -0.01065652, -0.13415528]])"
      ]
     },
     "execution_count": 63,
     "metadata": {},
     "output_type": "execute_result"
    }
   ],
   "source": [
    "model.components_"
   ]
  },
  {
   "cell_type": "code",
   "execution_count": 64,
   "metadata": {},
   "outputs": [],
   "source": [
    "df_comp = pd.DataFrame(model.components_,index=['PC1','PC2'],columns=independent_data.columns)"
   ]
  },
  {
   "cell_type": "code",
   "execution_count": 65,
   "metadata": {},
   "outputs": [
    {
     "data": {
      "text/html": [
       "<div>\n",
       "<style scoped>\n",
       "    .dataframe tbody tr th:only-of-type {\n",
       "        vertical-align: middle;\n",
       "    }\n",
       "\n",
       "    .dataframe tbody tr th {\n",
       "        vertical-align: top;\n",
       "    }\n",
       "\n",
       "    .dataframe thead th {\n",
       "        text-align: right;\n",
       "    }\n",
       "</style>\n",
       "<table border=\"1\" class=\"dataframe\">\n",
       "  <thead>\n",
       "    <tr style=\"text-align: right;\">\n",
       "      <th></th>\n",
       "      <th>39</th>\n",
       "      <th>40</th>\n",
       "      <th>42</th>\n",
       "      <th>47</th>\n",
       "      <th>48</th>\n",
       "      <th>49</th>\n",
       "      <th>41</th>\n",
       "      <th>43</th>\n",
       "      <th>44</th>\n",
       "      <th>45</th>\n",
       "      <th>...</th>\n",
       "      <th>call.29_M</th>\n",
       "      <th>call.29_P</th>\n",
       "      <th>call.30_M</th>\n",
       "      <th>call.30_P</th>\n",
       "      <th>call.31_M</th>\n",
       "      <th>call.31_P</th>\n",
       "      <th>call.32_M</th>\n",
       "      <th>call.32_P</th>\n",
       "      <th>call.33_M</th>\n",
       "      <th>call.33_P</th>\n",
       "    </tr>\n",
       "  </thead>\n",
       "  <tbody>\n",
       "    <tr>\n",
       "      <th>PC1</th>\n",
       "      <td>0.136884</td>\n",
       "      <td>0.141091</td>\n",
       "      <td>0.142481</td>\n",
       "      <td>0.138498</td>\n",
       "      <td>0.145582</td>\n",
       "      <td>0.142220</td>\n",
       "      <td>0.143650</td>\n",
       "      <td>0.135674</td>\n",
       "      <td>0.141402</td>\n",
       "      <td>0.142309</td>\n",
       "      <td>...</td>\n",
       "      <td>0.003151</td>\n",
       "      <td>0.097565</td>\n",
       "      <td>0.001438</td>\n",
       "      <td>0.090663</td>\n",
       "      <td>-0.000022</td>\n",
       "      <td>0.091999</td>\n",
       "      <td>0.00148</td>\n",
       "      <td>0.091179</td>\n",
       "      <td>-0.000242</td>\n",
       "      <td>0.092949</td>\n",
       "    </tr>\n",
       "    <tr>\n",
       "      <th>PC2</th>\n",
       "      <td>0.091569</td>\n",
       "      <td>0.093613</td>\n",
       "      <td>0.082444</td>\n",
       "      <td>0.096211</td>\n",
       "      <td>0.057470</td>\n",
       "      <td>0.085938</td>\n",
       "      <td>0.092268</td>\n",
       "      <td>0.094433</td>\n",
       "      <td>0.091888</td>\n",
       "      <td>0.088797</td>\n",
       "      <td>...</td>\n",
       "      <td>-0.019487</td>\n",
       "      <td>-0.119714</td>\n",
       "      <td>-0.013674</td>\n",
       "      <td>-0.128214</td>\n",
       "      <td>-0.010227</td>\n",
       "      <td>-0.147748</td>\n",
       "      <td>-0.01414</td>\n",
       "      <td>-0.119626</td>\n",
       "      <td>-0.010657</td>\n",
       "      <td>-0.134155</td>\n",
       "    </tr>\n",
       "  </tbody>\n",
       "</table>\n",
       "<p>2 rows × 13856 columns</p>\n",
       "</div>"
      ],
      "text/plain": [
       "           39        40        42        47        48        49        41  \\\n",
       "PC1  0.136884  0.141091  0.142481  0.138498  0.145582  0.142220  0.143650   \n",
       "PC2  0.091569  0.093613  0.082444  0.096211  0.057470  0.085938  0.092268   \n",
       "\n",
       "           43        44        45  ...  call.29_M  call.29_P  call.30_M  \\\n",
       "PC1  0.135674  0.141402  0.142309  ...   0.003151   0.097565   0.001438   \n",
       "PC2  0.094433  0.091888  0.088797  ...  -0.019487  -0.119714  -0.013674   \n",
       "\n",
       "     call.30_P  call.31_M  call.31_P  call.32_M  call.32_P  call.33_M  \\\n",
       "PC1   0.090663  -0.000022   0.091999    0.00148   0.091179  -0.000242   \n",
       "PC2  -0.128214  -0.010227  -0.147748   -0.01414  -0.119626  -0.010657   \n",
       "\n",
       "     call.33_P  \n",
       "PC1   0.092949  \n",
       "PC2  -0.134155  \n",
       "\n",
       "[2 rows x 13856 columns]"
      ]
     },
     "execution_count": 65,
     "metadata": {},
     "output_type": "execute_result"
    }
   ],
   "source": [
    "df_comp"
   ]
  },
  {
   "cell_type": "code",
   "execution_count": 66,
   "metadata": {},
   "outputs": [
    {
     "data": {
      "text/plain": [
       "array([0.0028036 , 0.00103782])"
      ]
     },
     "execution_count": 66,
     "metadata": {},
     "output_type": "execute_result"
    }
   ],
   "source": [
    "model.explained_variance_ratio_"
   ]
  },
  {
   "cell_type": "code",
   "execution_count": 67,
   "metadata": {},
   "outputs": [
    {
     "data": {
      "text/plain": [
       "0.0038414208895349643"
      ]
     },
     "execution_count": 67,
     "metadata": {},
     "output_type": "execute_result"
    }
   ],
   "source": [
    "np.sum(model.explained_variance_ratio_)"
   ]
  },
  {
   "cell_type": "code",
   "execution_count": 68,
   "metadata": {},
   "outputs": [
    {
     "data": {
      "text/html": [
       "<style>#sk-container-id-2 {color: black;}#sk-container-id-2 pre{padding: 0;}#sk-container-id-2 div.sk-toggleable {background-color: white;}#sk-container-id-2 label.sk-toggleable__label {cursor: pointer;display: block;width: 100%;margin-bottom: 0;padding: 0.3em;box-sizing: border-box;text-align: center;}#sk-container-id-2 label.sk-toggleable__label-arrow:before {content: \"▸\";float: left;margin-right: 0.25em;color: #696969;}#sk-container-id-2 label.sk-toggleable__label-arrow:hover:before {color: black;}#sk-container-id-2 div.sk-estimator:hover label.sk-toggleable__label-arrow:before {color: black;}#sk-container-id-2 div.sk-toggleable__content {max-height: 0;max-width: 0;overflow: hidden;text-align: left;background-color: #f0f8ff;}#sk-container-id-2 div.sk-toggleable__content pre {margin: 0.2em;color: black;border-radius: 0.25em;background-color: #f0f8ff;}#sk-container-id-2 input.sk-toggleable__control:checked~div.sk-toggleable__content {max-height: 200px;max-width: 100%;overflow: auto;}#sk-container-id-2 input.sk-toggleable__control:checked~label.sk-toggleable__label-arrow:before {content: \"▾\";}#sk-container-id-2 div.sk-estimator input.sk-toggleable__control:checked~label.sk-toggleable__label {background-color: #d4ebff;}#sk-container-id-2 div.sk-label input.sk-toggleable__control:checked~label.sk-toggleable__label {background-color: #d4ebff;}#sk-container-id-2 input.sk-hidden--visually {border: 0;clip: rect(1px 1px 1px 1px);clip: rect(1px, 1px, 1px, 1px);height: 1px;margin: -1px;overflow: hidden;padding: 0;position: absolute;width: 1px;}#sk-container-id-2 div.sk-estimator {font-family: monospace;background-color: #f0f8ff;border: 1px dotted black;border-radius: 0.25em;box-sizing: border-box;margin-bottom: 0.5em;}#sk-container-id-2 div.sk-estimator:hover {background-color: #d4ebff;}#sk-container-id-2 div.sk-parallel-item::after {content: \"\";width: 100%;border-bottom: 1px solid gray;flex-grow: 1;}#sk-container-id-2 div.sk-label:hover label.sk-toggleable__label {background-color: #d4ebff;}#sk-container-id-2 div.sk-serial::before {content: \"\";position: absolute;border-left: 1px solid gray;box-sizing: border-box;top: 0;bottom: 0;left: 50%;z-index: 0;}#sk-container-id-2 div.sk-serial {display: flex;flex-direction: column;align-items: center;background-color: white;padding-right: 0.2em;padding-left: 0.2em;position: relative;}#sk-container-id-2 div.sk-item {position: relative;z-index: 1;}#sk-container-id-2 div.sk-parallel {display: flex;align-items: stretch;justify-content: center;background-color: white;position: relative;}#sk-container-id-2 div.sk-item::before, #sk-container-id-2 div.sk-parallel-item::before {content: \"\";position: absolute;border-left: 1px solid gray;box-sizing: border-box;top: 0;bottom: 0;left: 50%;z-index: -1;}#sk-container-id-2 div.sk-parallel-item {display: flex;flex-direction: column;z-index: 1;position: relative;background-color: white;}#sk-container-id-2 div.sk-parallel-item:first-child::after {align-self: flex-end;width: 50%;}#sk-container-id-2 div.sk-parallel-item:last-child::after {align-self: flex-start;width: 50%;}#sk-container-id-2 div.sk-parallel-item:only-child::after {width: 0;}#sk-container-id-2 div.sk-dashed-wrapped {border: 1px dashed gray;margin: 0 0.4em 0.5em 0.4em;box-sizing: border-box;padding-bottom: 0.4em;background-color: white;}#sk-container-id-2 div.sk-label label {font-family: monospace;font-weight: bold;display: inline-block;line-height: 1.2em;}#sk-container-id-2 div.sk-label-container {text-align: center;}#sk-container-id-2 div.sk-container {/* jupyter's `normalize.less` sets `[hidden] { display: none; }` but bootstrap.min.css set `[hidden] { display: none !important; }` so we also need the `!important` here to be able to override the default hidden behavior on the sphinx rendered scikit-learn.org. See: https://github.com/scikit-learn/scikit-learn/issues/21755 */display: inline-block !important;position: relative;}#sk-container-id-2 div.sk-text-repr-fallback {display: none;}</style><div id=\"sk-container-id-2\" class=\"sk-top-container\"><div class=\"sk-text-repr-fallback\"><pre>PCA(n_components=30)</pre><b>In a Jupyter environment, please rerun this cell to show the HTML representation or trust the notebook. <br />On GitHub, the HTML representation is unable to render, please try loading this page with nbviewer.org.</b></div><div class=\"sk-container\" hidden><div class=\"sk-item\"><div class=\"sk-estimator sk-toggleable\"><input class=\"sk-toggleable__control sk-hidden--visually\" id=\"sk-estimator-id-2\" type=\"checkbox\" checked><label for=\"sk-estimator-id-2\" class=\"sk-toggleable__label sk-toggleable__label-arrow\">PCA</label><div class=\"sk-toggleable__content\"><pre>PCA(n_components=30)</pre></div></div></div></div></div>"
      ],
      "text/plain": [
       "PCA(n_components=30)"
      ]
     },
     "execution_count": 68,
     "metadata": {},
     "output_type": "execute_result"
    }
   ],
   "source": [
    "pca_30 = PCA(n_components=30)\n",
    "pca_30.fit(scaled_X)"
   ]
  },
  {
   "cell_type": "code",
   "execution_count": 69,
   "metadata": {},
   "outputs": [
    {
     "data": {
      "text/plain": [
       "array([0.0028036 , 0.00103782, 0.00028015, 0.00022357, 0.00021572,\n",
       "       0.00021391, 0.00021273, 0.00021107, 0.00020922, 0.00020455,\n",
       "       0.00020267, 0.00020178, 0.00019668, 0.00019578, 0.00019444,\n",
       "       0.00019222, 0.00019183, 0.00019088, 0.00018902, 0.00018584,\n",
       "       0.00018397, 0.00018114, 0.00017841, 0.00017613, 0.00017331,\n",
       "       0.00017087, 0.00016771, 0.0001647 , 0.00016092, 0.00016047])"
      ]
     },
     "execution_count": 69,
     "metadata": {},
     "output_type": "execute_result"
    }
   ],
   "source": [
    "pca_30.explained_variance_ratio_\n"
   ]
  },
  {
   "cell_type": "code",
   "execution_count": 70,
   "metadata": {},
   "outputs": [
    {
     "data": {
      "text/plain": [
       "0.0092711045883294"
      ]
     },
     "execution_count": 70,
     "metadata": {},
     "output_type": "execute_result"
    }
   ],
   "source": [
    "np.sum(pca_30.explained_variance_ratio_)\n"
   ]
  },
  {
   "cell_type": "code",
   "execution_count": 71,
   "metadata": {},
   "outputs": [],
   "source": [
    "explained_variance = []\n",
    "\n",
    "for n in range(1,30):\n",
    "    pca = PCA(n_components=n)\n",
    "    pca.fit(scaled_X)\n",
    "    \n",
    "    explained_variance.append(np.sum(pca.explained_variance_ratio_))"
   ]
  },
  {
   "cell_type": "code",
   "execution_count": 72,
   "metadata": {},
   "outputs": [
    {
     "data": {
      "image/png": "[encoded data removed]",
      "text/plain": [
       "<Figure size 640x480 with 1 Axes>"
      ]
     },
     "metadata": {},
     "output_type": "display_data"
    }
   ],
   "source": [
    "plt.plot(range(1,30),explained_variance)\n",
    "plt.xlabel(\"Number of Components\")\n",
    "plt.ylabel(\"Variance Explained\");"
   ]
  },
  {
   "cell_type": "code",
   "execution_count": 73,
   "metadata": {},
   "outputs": [
    {
     "data": {
      "text/html": [
       "<div>\n",
       "<style scoped>\n",
       "    .dataframe tbody tr th:only-of-type {\n",
       "        vertical-align: middle;\n",
       "    }\n",
       "\n",
       "    .dataframe tbody tr th {\n",
       "        vertical-align: top;\n",
       "    }\n",
       "\n",
       "    .dataframe thead th {\n",
       "        text-align: right;\n",
       "    }\n",
       "</style>\n",
       "<table border=\"1\" class=\"dataframe\">\n",
       "  <thead>\n",
       "    <tr style=\"text-align: right;\">\n",
       "      <th></th>\n",
       "      <th>Gene Description</th>\n",
       "      <th>Gene Accession Number</th>\n",
       "      <th>1</th>\n",
       "      <th>call</th>\n",
       "      <th>2</th>\n",
       "      <th>call.1</th>\n",
       "      <th>3</th>\n",
       "      <th>call.2</th>\n",
       "      <th>4</th>\n",
       "      <th>call.3</th>\n",
       "      <th>...</th>\n",
       "      <th>29</th>\n",
       "      <th>call.33</th>\n",
       "      <th>30</th>\n",
       "      <th>call.34</th>\n",
       "      <th>31</th>\n",
       "      <th>call.35</th>\n",
       "      <th>32</th>\n",
       "      <th>call.36</th>\n",
       "      <th>33</th>\n",
       "      <th>call.37</th>\n",
       "    </tr>\n",
       "  </thead>\n",
       "  <tbody>\n",
       "    <tr>\n",
       "      <th>7124</th>\n",
       "      <td>PTGER3 Prostaglandin E receptor 3 (subtype EP3...</td>\n",
       "      <td>X83863_at</td>\n",
       "      <td>793</td>\n",
       "      <td>A</td>\n",
       "      <td>782</td>\n",
       "      <td>A</td>\n",
       "      <td>1138</td>\n",
       "      <td>A</td>\n",
       "      <td>627</td>\n",
       "      <td>A</td>\n",
       "      <td>...</td>\n",
       "      <td>279</td>\n",
       "      <td>A</td>\n",
       "      <td>737</td>\n",
       "      <td>A</td>\n",
       "      <td>588</td>\n",
       "      <td>A</td>\n",
       "      <td>1170</td>\n",
       "      <td>A</td>\n",
       "      <td>2315</td>\n",
       "      <td>A</td>\n",
       "    </tr>\n",
       "    <tr>\n",
       "      <th>7125</th>\n",
       "      <td>HMG2 High-mobility group (nonhistone chromosom...</td>\n",
       "      <td>Z17240_at</td>\n",
       "      <td>329</td>\n",
       "      <td>A</td>\n",
       "      <td>295</td>\n",
       "      <td>A</td>\n",
       "      <td>777</td>\n",
       "      <td>P</td>\n",
       "      <td>170</td>\n",
       "      <td>A</td>\n",
       "      <td>...</td>\n",
       "      <td>51</td>\n",
       "      <td>A</td>\n",
       "      <td>227</td>\n",
       "      <td>A</td>\n",
       "      <td>361</td>\n",
       "      <td>A</td>\n",
       "      <td>284</td>\n",
       "      <td>A</td>\n",
       "      <td>250</td>\n",
       "      <td>A</td>\n",
       "    </tr>\n",
       "    <tr>\n",
       "      <th>7126</th>\n",
       "      <td>RB1 Retinoblastoma 1 (including osteosarcoma)</td>\n",
       "      <td>L49218_f_at</td>\n",
       "      <td>36</td>\n",
       "      <td>A</td>\n",
       "      <td>11</td>\n",
       "      <td>A</td>\n",
       "      <td>41</td>\n",
       "      <td>A</td>\n",
       "      <td>-50</td>\n",
       "      <td>A</td>\n",
       "      <td>...</td>\n",
       "      <td>6</td>\n",
       "      <td>A</td>\n",
       "      <td>-9</td>\n",
       "      <td>A</td>\n",
       "      <td>-26</td>\n",
       "      <td>A</td>\n",
       "      <td>39</td>\n",
       "      <td>A</td>\n",
       "      <td>-12</td>\n",
       "      <td>A</td>\n",
       "    </tr>\n",
       "    <tr>\n",
       "      <th>7127</th>\n",
       "      <td>GB DEF = Glycophorin Sta (type A) exons 3 and ...</td>\n",
       "      <td>M71243_f_at</td>\n",
       "      <td>191</td>\n",
       "      <td>A</td>\n",
       "      <td>76</td>\n",
       "      <td>A</td>\n",
       "      <td>228</td>\n",
       "      <td>A</td>\n",
       "      <td>126</td>\n",
       "      <td>A</td>\n",
       "      <td>...</td>\n",
       "      <td>2484</td>\n",
       "      <td>P</td>\n",
       "      <td>371</td>\n",
       "      <td>A</td>\n",
       "      <td>133</td>\n",
       "      <td>A</td>\n",
       "      <td>298</td>\n",
       "      <td>A</td>\n",
       "      <td>790</td>\n",
       "      <td>P</td>\n",
       "    </tr>\n",
       "    <tr>\n",
       "      <th>7128</th>\n",
       "      <td>GB DEF = mRNA (clone 1A7)</td>\n",
       "      <td>Z78285_f_at</td>\n",
       "      <td>-37</td>\n",
       "      <td>A</td>\n",
       "      <td>-14</td>\n",
       "      <td>A</td>\n",
       "      <td>-41</td>\n",
       "      <td>A</td>\n",
       "      <td>-91</td>\n",
       "      <td>A</td>\n",
       "      <td>...</td>\n",
       "      <td>-2</td>\n",
       "      <td>A</td>\n",
       "      <td>-31</td>\n",
       "      <td>A</td>\n",
       "      <td>-32</td>\n",
       "      <td>A</td>\n",
       "      <td>-3</td>\n",
       "      <td>A</td>\n",
       "      <td>-10</td>\n",
       "      <td>A</td>\n",
       "    </tr>\n",
       "  </tbody>\n",
       "</table>\n",
       "<p>5 rows × 78 columns</p>\n",
       "</div>"
      ],
      "text/plain": [
       "                                       Gene Description Gene Accession Number  \\\n",
       "7124  PTGER3 Prostaglandin E receptor 3 (subtype EP3...             X83863_at   \n",
       "7125  HMG2 High-mobility group (nonhistone chromosom...             Z17240_at   \n",
       "7126      RB1 Retinoblastoma 1 (including osteosarcoma)           L49218_f_at   \n",
       "7127  GB DEF = Glycophorin Sta (type A) exons 3 and ...           M71243_f_at   \n",
       "7128                          GB DEF = mRNA (clone 1A7)           Z78285_f_at   \n",
       "\n",
       "        1 call    2 call.1     3 call.2    4 call.3  ...    29 call.33   30  \\\n",
       "7124  793    A  782      A  1138      A  627      A  ...   279       A  737   \n",
       "7125  329    A  295      A   777      P  170      A  ...    51       A  227   \n",
       "7126   36    A   11      A    41      A  -50      A  ...     6       A   -9   \n",
       "7127  191    A   76      A   228      A  126      A  ...  2484       P  371   \n",
       "7128  -37    A  -14      A   -41      A  -91      A  ...    -2       A  -31   \n",
       "\n",
       "     call.34   31 call.35    32 call.36    33 call.37  \n",
       "7124       A  588       A  1170       A  2315       A  \n",
       "7125       A  361       A   284       A   250       A  \n",
       "7126       A  -26       A    39       A   -12       A  \n",
       "7127       A  133       A   298       A   790       P  \n",
       "7128       A  -32       A    -3       A   -10       A  \n",
       "\n",
       "[5 rows x 78 columns]"
      ]
     },
     "execution_count": 73,
     "metadata": {},
     "output_type": "execute_result"
    }
   ],
   "source": [
    "train_data.tail(5)"
   ]
  },
  {
   "cell_type": "code",
   "execution_count": 74,
   "metadata": {},
   "outputs": [
    {
     "data": {
      "text/plain": [
       "Gene Description         object\n",
       "Gene Accession Number    object\n",
       "1                         int64\n",
       "call                     object\n",
       "2                         int64\n",
       "                          ...  \n",
       "call.35                  object\n",
       "32                        int64\n",
       "call.36                  object\n",
       "33                        int64\n",
       "call.37                  object\n",
       "Length: 78, dtype: object"
      ]
     },
     "execution_count": 74,
     "metadata": {},
     "output_type": "execute_result"
    }
   ],
   "source": [
    "train_data.dtypes"
   ]
  },
  {
   "cell_type": "code",
   "execution_count": 75,
   "metadata": {},
   "outputs": [
    {
     "data": {
      "text/html": [
       "<div>\n",
       "<style scoped>\n",
       "    .dataframe tbody tr th:only-of-type {\n",
       "        vertical-align: middle;\n",
       "    }\n",
       "\n",
       "    .dataframe tbody tr th {\n",
       "        vertical-align: top;\n",
       "    }\n",
       "\n",
       "    .dataframe thead th {\n",
       "        text-align: right;\n",
       "    }\n",
       "</style>\n",
       "<table border=\"1\" class=\"dataframe\">\n",
       "  <thead>\n",
       "    <tr style=\"text-align: right;\">\n",
       "      <th></th>\n",
       "      <th>Gene Description</th>\n",
       "      <th>Gene Accession Number</th>\n",
       "      <th>1</th>\n",
       "      <th>call</th>\n",
       "      <th>2</th>\n",
       "      <th>call.1</th>\n",
       "      <th>3</th>\n",
       "      <th>call.2</th>\n",
       "      <th>4</th>\n",
       "      <th>call.3</th>\n",
       "      <th>...</th>\n",
       "      <th>29</th>\n",
       "      <th>call.33</th>\n",
       "      <th>30</th>\n",
       "      <th>call.34</th>\n",
       "      <th>31</th>\n",
       "      <th>call.35</th>\n",
       "      <th>32</th>\n",
       "      <th>call.36</th>\n",
       "      <th>33</th>\n",
       "      <th>call.37</th>\n",
       "    </tr>\n",
       "  </thead>\n",
       "  <tbody>\n",
       "    <tr>\n",
       "      <th>0</th>\n",
       "      <td>AFFX-BioB-5_at (endogenous control)</td>\n",
       "      <td>AFFX-BioB-5_at</td>\n",
       "      <td>-214</td>\n",
       "      <td>A</td>\n",
       "      <td>-139</td>\n",
       "      <td>A</td>\n",
       "      <td>-76</td>\n",
       "      <td>A</td>\n",
       "      <td>-135</td>\n",
       "      <td>A</td>\n",
       "      <td>...</td>\n",
       "      <td>15</td>\n",
       "      <td>A</td>\n",
       "      <td>-318</td>\n",
       "      <td>A</td>\n",
       "      <td>-32</td>\n",
       "      <td>A</td>\n",
       "      <td>-124</td>\n",
       "      <td>A</td>\n",
       "      <td>-135</td>\n",
       "      <td>A</td>\n",
       "    </tr>\n",
       "    <tr>\n",
       "      <th>1</th>\n",
       "      <td>AFFX-BioB-M_at (endogenous control)</td>\n",
       "      <td>AFFX-BioB-M_at</td>\n",
       "      <td>-153</td>\n",
       "      <td>A</td>\n",
       "      <td>-73</td>\n",
       "      <td>A</td>\n",
       "      <td>-49</td>\n",
       "      <td>A</td>\n",
       "      <td>-114</td>\n",
       "      <td>A</td>\n",
       "      <td>...</td>\n",
       "      <td>-114</td>\n",
       "      <td>A</td>\n",
       "      <td>-192</td>\n",
       "      <td>A</td>\n",
       "      <td>-49</td>\n",
       "      <td>A</td>\n",
       "      <td>-79</td>\n",
       "      <td>A</td>\n",
       "      <td>-186</td>\n",
       "      <td>A</td>\n",
       "    </tr>\n",
       "    <tr>\n",
       "      <th>2</th>\n",
       "      <td>AFFX-BioB-3_at (endogenous control)</td>\n",
       "      <td>AFFX-BioB-3_at</td>\n",
       "      <td>-58</td>\n",
       "      <td>A</td>\n",
       "      <td>-1</td>\n",
       "      <td>A</td>\n",
       "      <td>-307</td>\n",
       "      <td>A</td>\n",
       "      <td>265</td>\n",
       "      <td>A</td>\n",
       "      <td>...</td>\n",
       "      <td>2</td>\n",
       "      <td>A</td>\n",
       "      <td>-95</td>\n",
       "      <td>A</td>\n",
       "      <td>49</td>\n",
       "      <td>A</td>\n",
       "      <td>-37</td>\n",
       "      <td>A</td>\n",
       "      <td>-70</td>\n",
       "      <td>A</td>\n",
       "    </tr>\n",
       "    <tr>\n",
       "      <th>3</th>\n",
       "      <td>AFFX-BioC-5_at (endogenous control)</td>\n",
       "      <td>AFFX-BioC-5_at</td>\n",
       "      <td>88</td>\n",
       "      <td>A</td>\n",
       "      <td>283</td>\n",
       "      <td>A</td>\n",
       "      <td>309</td>\n",
       "      <td>A</td>\n",
       "      <td>12</td>\n",
       "      <td>A</td>\n",
       "      <td>...</td>\n",
       "      <td>193</td>\n",
       "      <td>A</td>\n",
       "      <td>312</td>\n",
       "      <td>A</td>\n",
       "      <td>230</td>\n",
       "      <td>P</td>\n",
       "      <td>330</td>\n",
       "      <td>A</td>\n",
       "      <td>337</td>\n",
       "      <td>A</td>\n",
       "    </tr>\n",
       "    <tr>\n",
       "      <th>4</th>\n",
       "      <td>AFFX-BioC-3_at (endogenous control)</td>\n",
       "      <td>AFFX-BioC-3_at</td>\n",
       "      <td>-295</td>\n",
       "      <td>A</td>\n",
       "      <td>-264</td>\n",
       "      <td>A</td>\n",
       "      <td>-376</td>\n",
       "      <td>A</td>\n",
       "      <td>-419</td>\n",
       "      <td>A</td>\n",
       "      <td>...</td>\n",
       "      <td>-51</td>\n",
       "      <td>A</td>\n",
       "      <td>-139</td>\n",
       "      <td>A</td>\n",
       "      <td>-367</td>\n",
       "      <td>A</td>\n",
       "      <td>-188</td>\n",
       "      <td>A</td>\n",
       "      <td>-407</td>\n",
       "      <td>A</td>\n",
       "    </tr>\n",
       "  </tbody>\n",
       "</table>\n",
       "<p>5 rows × 78 columns</p>\n",
       "</div>"
      ],
      "text/plain": [
       "                      Gene Description Gene Accession Number    1 call    2  \\\n",
       "0  AFFX-BioB-5_at (endogenous control)        AFFX-BioB-5_at -214    A -139   \n",
       "1  AFFX-BioB-M_at (endogenous control)        AFFX-BioB-M_at -153    A  -73   \n",
       "2  AFFX-BioB-3_at (endogenous control)        AFFX-BioB-3_at  -58    A   -1   \n",
       "3  AFFX-BioC-5_at (endogenous control)        AFFX-BioC-5_at   88    A  283   \n",
       "4  AFFX-BioC-3_at (endogenous control)        AFFX-BioC-3_at -295    A -264   \n",
       "\n",
       "  call.1    3 call.2    4 call.3  ...   29 call.33   30 call.34   31 call.35  \\\n",
       "0      A  -76      A -135      A  ...   15       A -318       A  -32       A   \n",
       "1      A  -49      A -114      A  ... -114       A -192       A  -49       A   \n",
       "2      A -307      A  265      A  ...    2       A  -95       A   49       A   \n",
       "3      A  309      A   12      A  ...  193       A  312       A  230       P   \n",
       "4      A -376      A -419      A  ...  -51       A -139       A -367       A   \n",
       "\n",
       "    32 call.36   33 call.37  \n",
       "0 -124       A -135       A  \n",
       "1  -79       A -186       A  \n",
       "2  -37       A  -70       A  \n",
       "3  330       A  337       A  \n",
       "4 -188       A -407       A  \n",
       "\n",
       "[5 rows x 78 columns]"
      ]
     },
     "execution_count": 75,
     "metadata": {},
     "output_type": "execute_result"
    }
   ],
   "source": [
    "train_data.head()"
   ]
  },
  {
   "cell_type": "code",
   "execution_count": 76,
   "metadata": {},
   "outputs": [
    {
     "data": {
      "text/plain": [
       "(7129, 78)"
      ]
     },
     "execution_count": 76,
     "metadata": {},
     "output_type": "execute_result"
    }
   ],
   "source": [
    "train_data.shape"
   ]
  },
  {
   "cell_type": "code",
   "execution_count": 77,
   "metadata": {},
   "outputs": [
    {
     "data": {
      "text/plain": [
       "<bound method DataFrame.nunique of                                        Gene Description Gene Accession Number  \\\n",
       "0                   AFFX-BioB-5_at (endogenous control)        AFFX-BioB-5_at   \n",
       "1                   AFFX-BioB-M_at (endogenous control)        AFFX-BioB-M_at   \n",
       "2                   AFFX-BioB-3_at (endogenous control)        AFFX-BioB-3_at   \n",
       "3                   AFFX-BioC-5_at (endogenous control)        AFFX-BioC-5_at   \n",
       "4                   AFFX-BioC-3_at (endogenous control)        AFFX-BioC-3_at   \n",
       "...                                                 ...                   ...   \n",
       "7124  PTGER3 Prostaglandin E receptor 3 (subtype EP3...             X83863_at   \n",
       "7125  HMG2 High-mobility group (nonhistone chromosom...             Z17240_at   \n",
       "7126      RB1 Retinoblastoma 1 (including osteosarcoma)           L49218_f_at   \n",
       "7127  GB DEF = Glycophorin Sta (type A) exons 3 and ...           M71243_f_at   \n",
       "7128                          GB DEF = mRNA (clone 1A7)           Z78285_f_at   \n",
       "\n",
       "        1 call    2 call.1     3 call.2    4 call.3  ...    29 call.33   30  \\\n",
       "0    -214    A -139      A   -76      A -135      A  ...    15       A -318   \n",
       "1    -153    A  -73      A   -49      A -114      A  ...  -114       A -192   \n",
       "2     -58    A   -1      A  -307      A  265      A  ...     2       A  -95   \n",
       "3      88    A  283      A   309      A   12      A  ...   193       A  312   \n",
       "4    -295    A -264      A  -376      A -419      A  ...   -51       A -139   \n",
       "...   ...  ...  ...    ...   ...    ...  ...    ...  ...   ...     ...  ...   \n",
       "7124  793    A  782      A  1138      A  627      A  ...   279       A  737   \n",
       "7125  329    A  295      A   777      P  170      A  ...    51       A  227   \n",
       "7126   36    A   11      A    41      A  -50      A  ...     6       A   -9   \n",
       "7127  191    A   76      A   228      A  126      A  ...  2484       P  371   \n",
       "7128  -37    A  -14      A   -41      A  -91      A  ...    -2       A  -31   \n",
       "\n",
       "     call.34   31 call.35    32 call.36    33 call.37  \n",
       "0          A  -32       A  -124       A  -135       A  \n",
       "1          A  -49       A   -79       A  -186       A  \n",
       "2          A   49       A   -37       A   -70       A  \n",
       "3          A  230       P   330       A   337       A  \n",
       "4          A -367       A  -188       A  -407       A  \n",
       "...      ...  ...     ...   ...     ...   ...     ...  \n",
       "7124       A  588       A  1170       A  2315       A  \n",
       "7125       A  361       A   284       A   250       A  \n",
       "7126       A  -26       A    39       A   -12       A  \n",
       "7127       A  133       A   298       A   790       P  \n",
       "7128       A  -32       A    -3       A   -10       A  \n",
       "\n",
       "[7129 rows x 78 columns]>"
      ]
     },
     "execution_count": 77,
     "metadata": {},
     "output_type": "execute_result"
    }
   ],
   "source": [
    "train_data.nunique"
   ]
  },
  {
   "cell_type": "code",
   "execution_count": 78,
   "metadata": {},
   "outputs": [
    {
     "data": {
      "text/html": [
       "<div>\n",
       "<style scoped>\n",
       "    .dataframe tbody tr th:only-of-type {\n",
       "        vertical-align: middle;\n",
       "    }\n",
       "\n",
       "    .dataframe tbody tr th {\n",
       "        vertical-align: top;\n",
       "    }\n",
       "\n",
       "    .dataframe thead th {\n",
       "        text-align: right;\n",
       "    }\n",
       "</style>\n",
       "<table border=\"1\" class=\"dataframe\">\n",
       "  <thead>\n",
       "    <tr style=\"text-align: right;\">\n",
       "      <th></th>\n",
       "      <th>1</th>\n",
       "      <th>2</th>\n",
       "      <th>3</th>\n",
       "      <th>4</th>\n",
       "      <th>5</th>\n",
       "      <th>6</th>\n",
       "      <th>7</th>\n",
       "      <th>8</th>\n",
       "      <th>9</th>\n",
       "      <th>10</th>\n",
       "      <th>...</th>\n",
       "      <th>35</th>\n",
       "      <th>36</th>\n",
       "      <th>37</th>\n",
       "      <th>38</th>\n",
       "      <th>28</th>\n",
       "      <th>29</th>\n",
       "      <th>30</th>\n",
       "      <th>31</th>\n",
       "      <th>32</th>\n",
       "      <th>33</th>\n",
       "    </tr>\n",
       "  </thead>\n",
       "  <tbody>\n",
       "    <tr>\n",
       "      <th>count</th>\n",
       "      <td>7129.000000</td>\n",
       "      <td>7129.000000</td>\n",
       "      <td>7129.000000</td>\n",
       "      <td>7129.000000</td>\n",
       "      <td>7129.000000</td>\n",
       "      <td>7129.000000</td>\n",
       "      <td>7129.000000</td>\n",
       "      <td>7129.000000</td>\n",
       "      <td>7129.000000</td>\n",
       "      <td>7129.000000</td>\n",
       "      <td>...</td>\n",
       "      <td>7129.000000</td>\n",
       "      <td>7129.000000</td>\n",
       "      <td>7129.000000</td>\n",
       "      <td>7129.000000</td>\n",
       "      <td>7129.000000</td>\n",
       "      <td>7129.000000</td>\n",
       "      <td>7129.000000</td>\n",
       "      <td>7129.000000</td>\n",
       "      <td>7129.000000</td>\n",
       "      <td>7129.000000</td>\n",
       "    </tr>\n",
       "    <tr>\n",
       "      <th>mean</th>\n",
       "      <td>641.367092</td>\n",
       "      <td>690.246318</td>\n",
       "      <td>698.307897</td>\n",
       "      <td>600.985271</td>\n",
       "      <td>679.532894</td>\n",
       "      <td>564.797728</td>\n",
       "      <td>584.437649</td>\n",
       "      <td>571.359097</td>\n",
       "      <td>789.713705</td>\n",
       "      <td>599.483097</td>\n",
       "      <td>...</td>\n",
       "      <td>514.496704</td>\n",
       "      <td>775.143498</td>\n",
       "      <td>689.248141</td>\n",
       "      <td>626.885959</td>\n",
       "      <td>673.279422</td>\n",
       "      <td>556.463179</td>\n",
       "      <td>718.934493</td>\n",
       "      <td>598.648899</td>\n",
       "      <td>676.920887</td>\n",
       "      <td>723.563473</td>\n",
       "    </tr>\n",
       "    <tr>\n",
       "      <th>std</th>\n",
       "      <td>2264.294361</td>\n",
       "      <td>2468.814372</td>\n",
       "      <td>2485.656277</td>\n",
       "      <td>2340.047428</td>\n",
       "      <td>2375.895416</td>\n",
       "      <td>2494.604090</td>\n",
       "      <td>2412.812263</td>\n",
       "      <td>2378.780450</td>\n",
       "      <td>2580.157021</td>\n",
       "      <td>2421.156219</td>\n",
       "      <td>...</td>\n",
       "      <td>2440.722824</td>\n",
       "      <td>2676.664777</td>\n",
       "      <td>2543.537830</td>\n",
       "      <td>2473.180838</td>\n",
       "      <td>2413.149603</td>\n",
       "      <td>2376.681824</td>\n",
       "      <td>2533.678058</td>\n",
       "      <td>2405.268550</td>\n",
       "      <td>2436.964933</td>\n",
       "      <td>2507.382019</td>\n",
       "    </tr>\n",
       "    <tr>\n",
       "      <th>min</th>\n",
       "      <td>-19826.000000</td>\n",
       "      <td>-17930.000000</td>\n",
       "      <td>-27182.000000</td>\n",
       "      <td>-23396.000000</td>\n",
       "      <td>-10339.000000</td>\n",
       "      <td>-21658.000000</td>\n",
       "      <td>-24024.000000</td>\n",
       "      <td>-27570.000000</td>\n",
       "      <td>-25171.000000</td>\n",
       "      <td>-12500.000000</td>\n",
       "      <td>...</td>\n",
       "      <td>-16281.000000</td>\n",
       "      <td>-27398.000000</td>\n",
       "      <td>-23673.000000</td>\n",
       "      <td>-23645.000000</td>\n",
       "      <td>-20376.000000</td>\n",
       "      <td>-9501.000000</td>\n",
       "      <td>-17580.000000</td>\n",
       "      <td>-25491.000000</td>\n",
       "      <td>-28400.000000</td>\n",
       "      <td>-27811.000000</td>\n",
       "    </tr>\n",
       "    <tr>\n",
       "      <th>25%</th>\n",
       "      <td>-21.000000</td>\n",
       "      <td>-14.000000</td>\n",
       "      <td>-31.000000</td>\n",
       "      <td>-33.000000</td>\n",
       "      <td>8.000000</td>\n",
       "      <td>-26.000000</td>\n",
       "      <td>-33.000000</td>\n",
       "      <td>-58.000000</td>\n",
       "      <td>-14.000000</td>\n",
       "      <td>-15.000000</td>\n",
       "      <td>...</td>\n",
       "      <td>-43.000000</td>\n",
       "      <td>-27.000000</td>\n",
       "      <td>-23.000000</td>\n",
       "      <td>-22.000000</td>\n",
       "      <td>-16.000000</td>\n",
       "      <td>-13.000000</td>\n",
       "      <td>-25.000000</td>\n",
       "      <td>-32.000000</td>\n",
       "      <td>-22.000000</td>\n",
       "      <td>-38.000000</td>\n",
       "    </tr>\n",
       "    <tr>\n",
       "      <th>50%</th>\n",
       "      <td>159.000000</td>\n",
       "      <td>130.000000</td>\n",
       "      <td>177.000000</td>\n",
       "      <td>139.000000</td>\n",
       "      <td>146.000000</td>\n",
       "      <td>106.000000</td>\n",
       "      <td>134.000000</td>\n",
       "      <td>140.000000</td>\n",
       "      <td>166.000000</td>\n",
       "      <td>103.000000</td>\n",
       "      <td>...</td>\n",
       "      <td>108.000000</td>\n",
       "      <td>144.000000</td>\n",
       "      <td>134.000000</td>\n",
       "      <td>133.000000</td>\n",
       "      <td>150.000000</td>\n",
       "      <td>82.000000</td>\n",
       "      <td>128.000000</td>\n",
       "      <td>107.000000</td>\n",
       "      <td>155.000000</td>\n",
       "      <td>170.000000</td>\n",
       "    </tr>\n",
       "    <tr>\n",
       "      <th>75%</th>\n",
       "      <td>535.000000</td>\n",
       "      <td>488.000000</td>\n",
       "      <td>610.000000</td>\n",
       "      <td>497.000000</td>\n",
       "      <td>471.000000</td>\n",
       "      <td>401.000000</td>\n",
       "      <td>497.000000</td>\n",
       "      <td>527.000000</td>\n",
       "      <td>609.000000</td>\n",
       "      <td>386.000000</td>\n",
       "      <td>...</td>\n",
       "      <td>396.000000</td>\n",
       "      <td>569.000000</td>\n",
       "      <td>505.000000</td>\n",
       "      <td>490.000000</td>\n",
       "      <td>517.000000</td>\n",
       "      <td>309.000000</td>\n",
       "      <td>488.000000</td>\n",
       "      <td>443.000000</td>\n",
       "      <td>549.000000</td>\n",
       "      <td>649.000000</td>\n",
       "    </tr>\n",
       "    <tr>\n",
       "      <th>max</th>\n",
       "      <td>31086.000000</td>\n",
       "      <td>29288.000000</td>\n",
       "      <td>28056.000000</td>\n",
       "      <td>31449.000000</td>\n",
       "      <td>29543.000000</td>\n",
       "      <td>38467.000000</td>\n",
       "      <td>41911.000000</td>\n",
       "      <td>40065.000000</td>\n",
       "      <td>23602.000000</td>\n",
       "      <td>28033.000000</td>\n",
       "      <td>...</td>\n",
       "      <td>61228.000000</td>\n",
       "      <td>37164.000000</td>\n",
       "      <td>32204.000000</td>\n",
       "      <td>29169.000000</td>\n",
       "      <td>29833.000000</td>\n",
       "      <td>30354.000000</td>\n",
       "      <td>25055.000000</td>\n",
       "      <td>28350.000000</td>\n",
       "      <td>25093.000000</td>\n",
       "      <td>32946.000000</td>\n",
       "    </tr>\n",
       "  </tbody>\n",
       "</table>\n",
       "<p>8 rows × 38 columns</p>\n",
       "</div>"
      ],
      "text/plain": [
       "                  1             2             3             4             5  \\\n",
       "count   7129.000000   7129.000000   7129.000000   7129.000000   7129.000000   \n",
       "mean     641.367092    690.246318    698.307897    600.985271    679.532894   \n",
       "std     2264.294361   2468.814372   2485.656277   2340.047428   2375.895416   \n",
       "min   -19826.000000 -17930.000000 -27182.000000 -23396.000000 -10339.000000   \n",
       "25%      -21.000000    -14.000000    -31.000000    -33.000000      8.000000   \n",
       "50%      159.000000    130.000000    177.000000    139.000000    146.000000   \n",
       "75%      535.000000    488.000000    610.000000    497.000000    471.000000   \n",
       "max    31086.000000  29288.000000  28056.000000  31449.000000  29543.000000   \n",
       "\n",
       "                  6             7             8             9            10  \\\n",
       "count   7129.000000   7129.000000   7129.000000   7129.000000   7129.000000   \n",
       "mean     564.797728    584.437649    571.359097    789.713705    599.483097   \n",
       "std     2494.604090   2412.812263   2378.780450   2580.157021   2421.156219   \n",
       "min   -21658.000000 -24024.000000 -27570.000000 -25171.000000 -12500.000000   \n",
       "25%      -26.000000    -33.000000    -58.000000    -14.000000    -15.000000   \n",
       "50%      106.000000    134.000000    140.000000    166.000000    103.000000   \n",
       "75%      401.000000    497.000000    527.000000    609.000000    386.000000   \n",
       "max    38467.000000  41911.000000  40065.000000  23602.000000  28033.000000   \n",
       "\n",
       "       ...            35            36            37            38  \\\n",
       "count  ...   7129.000000   7129.000000   7129.000000   7129.000000   \n",
       "mean   ...    514.496704    775.143498    689.248141    626.885959   \n",
       "std    ...   2440.722824   2676.664777   2543.537830   2473.180838   \n",
       "min    ... -16281.000000 -27398.000000 -23673.000000 -23645.000000   \n",
       "25%    ...    -43.000000    -27.000000    -23.000000    -22.000000   \n",
       "50%    ...    108.000000    144.000000    134.000000    133.000000   \n",
       "75%    ...    396.000000    569.000000    505.000000    490.000000   \n",
       "max    ...  61228.000000  37164.000000  32204.000000  29169.000000   \n",
       "\n",
       "                 28            29            30            31            32  \\\n",
       "count   7129.000000   7129.000000   7129.000000   7129.000000   7129.000000   \n",
       "mean     673.279422    556.463179    718.934493    598.648899    676.920887   \n",
       "std     2413.149603   2376.681824   2533.678058   2405.268550   2436.964933   \n",
       "min   -20376.000000  -9501.000000 -17580.000000 -25491.000000 -28400.000000   \n",
       "25%      -16.000000    -13.000000    -25.000000    -32.000000    -22.000000   \n",
       "50%      150.000000     82.000000    128.000000    107.000000    155.000000   \n",
       "75%      517.000000    309.000000    488.000000    443.000000    549.000000   \n",
       "max    29833.000000  30354.000000  25055.000000  28350.000000  25093.000000   \n",
       "\n",
       "                 33  \n",
       "count   7129.000000  \n",
       "mean     723.563473  \n",
       "std     2507.382019  \n",
       "min   -27811.000000  \n",
       "25%      -38.000000  \n",
       "50%      170.000000  \n",
       "75%      649.000000  \n",
       "max    32946.000000  \n",
       "\n",
       "[8 rows x 38 columns]"
      ]
     },
     "execution_count": 78,
     "metadata": {},
     "output_type": "execute_result"
    }
   ],
   "source": [
    "train_data.describe()"
   ]
  },
  {
   "cell_type": "code",
   "execution_count": 79,
   "metadata": {},
   "outputs": [
    {
     "data": {
      "text/plain": [
       "Index(['Gene Description', 'Gene Accession Number', '1', 'call', '2', 'call.1',\n",
       "       '3', 'call.2', '4', 'call.3', '5', 'call.4', '6', 'call.5', '7',\n",
       "       'call.6', '8', 'call.7', '9', 'call.8', '10', 'call.9', '11', 'call.10',\n",
       "       '12', 'call.11', '13', 'call.12', '14', 'call.13', '15', 'call.14',\n",
       "       '16', 'call.15', '17', 'call.16', '18', 'call.17', '19', 'call.18',\n",
       "       '20', 'call.19', '21', 'call.20', '22', 'call.21', '23', 'call.22',\n",
       "       '24', 'call.23', '25', 'call.24', '26', 'call.25', '27', 'call.26',\n",
       "       '34', 'call.27', '35', 'call.28', '36', 'call.29', '37', 'call.30',\n",
       "       '38', 'call.31', '28', 'call.32', '29', 'call.33', '30', 'call.34',\n",
       "       '31', 'call.35', '32', 'call.36', '33', 'call.37'],\n",
       "      dtype='object')"
      ]
     },
     "execution_count": 79,
     "metadata": {},
     "output_type": "execute_result"
    }
   ],
   "source": [
    "train_data.columns"
   ]
  },
  {
   "cell_type": "code",
   "execution_count": 80,
   "metadata": {},
   "outputs": [
    {
     "name": "stdout",
     "output_type": "stream",
     "text": [
      "<class 'pandas.core.frame.DataFrame'>\n",
      "RangeIndex: 7129 entries, 0 to 7128\n",
      "Data columns (total 78 columns):\n",
      " #   Column                 Non-Null Count  Dtype \n",
      "---  ------                 --------------  ----- \n",
      " 0   Gene Description       7129 non-null   object\n",
      " 1   Gene Accession Number  7129 non-null   object\n",
      " 2   1                      7129 non-null   int64 \n",
      " 3   call                   7129 non-null   object\n",
      " 4   2                      7129 non-null   int64 \n",
      " 5   call.1                 7129 non-null   object\n",
      " 6   3                      7129 non-null   int64 \n",
      " 7   call.2                 7129 non-null   object\n",
      " 8   4                      7129 non-null   int64 \n",
      " 9   call.3                 7129 non-null   object\n",
      " 10  5                      7129 non-null   int64 \n",
      " 11  call.4                 7129 non-null   object\n",
      " 12  6                      7129 non-null   int64 \n",
      " 13  call.5                 7129 non-null   object\n",
      " 14  7                      7129 non-null   int64 \n",
      " 15  call.6                 7129 non-null   object\n",
      " 16  8                      7129 non-null   int64 \n",
      " 17  call.7                 7129 non-null   object\n",
      " 18  9                      7129 non-null   int64 \n",
      " 19  call.8                 7129 non-null   object\n",
      " 20  10                     7129 non-null   int64 \n",
      " 21  call.9                 7129 non-null   object\n",
      " 22  11                     7129 non-null   int64 \n",
      " 23  call.10                7129 non-null   object\n",
      " 24  12                     7129 non-null   int64 \n",
      " 25  call.11                7129 non-null   object\n",
      " 26  13                     7129 non-null   int64 \n",
      " 27  call.12                7129 non-null   object\n",
      " 28  14                     7129 non-null   int64 \n",
      " 29  call.13                7129 non-null   object\n",
      " 30  15                     7129 non-null   int64 \n",
      " 31  call.14                7129 non-null   object\n",
      " 32  16                     7129 non-null   int64 \n",
      " 33  call.15                7129 non-null   object\n",
      " 34  17                     7129 non-null   int64 \n",
      " 35  call.16                7129 non-null   object\n",
      " 36  18                     7129 non-null   int64 \n",
      " 37  call.17                7129 non-null   object\n",
      " 38  19                     7129 non-null   int64 \n",
      " 39  call.18                7129 non-null   object\n",
      " 40  20                     7129 non-null   int64 \n",
      " 41  call.19                7129 non-null   object\n",
      " 42  21                     7129 non-null   int64 \n",
      " 43  call.20                7129 non-null   object\n",
      " 44  22                     7129 non-null   int64 \n",
      " 45  call.21                7129 non-null   object\n",
      " 46  23                     7129 non-null   int64 \n",
      " 47  call.22                7129 non-null   object\n",
      " 48  24                     7129 non-null   int64 \n",
      " 49  call.23                7129 non-null   object\n",
      " 50  25                     7129 non-null   int64 \n",
      " 51  call.24                7129 non-null   object\n",
      " 52  26                     7129 non-null   int64 \n",
      " 53  call.25                7129 non-null   object\n",
      " 54  27                     7129 non-null   int64 \n",
      " 55  call.26                7129 non-null   object\n",
      " 56  34                     7129 non-null   int64 \n",
      " 57  call.27                7129 non-null   object\n",
      " 58  35                     7129 non-null   int64 \n",
      " 59  call.28                7129 non-null   object\n",
      " 60  36                     7129 non-null   int64 \n",
      " 61  call.29                7129 non-null   object\n",
      " 62  37                     7129 non-null   int64 \n",
      " 63  call.30                7129 non-null   object\n",
      " 64  38                     7129 non-null   int64 \n",
      " 65  call.31                7129 non-null   object\n",
      " 66  28                     7129 non-null   int64 \n",
      " 67  call.32                7129 non-null   object\n",
      " 68  29                     7129 non-null   int64 \n",
      " 69  call.33                7129 non-null   object\n",
      " 70  30                     7129 non-null   int64 \n",
      " 71  call.34                7129 non-null   object\n",
      " 72  31                     7129 non-null   int64 \n",
      " 73  call.35                7129 non-null   object\n",
      " 74  32                     7129 non-null   int64 \n",
      " 75  call.36                7129 non-null   object\n",
      " 76  33                     7129 non-null   int64 \n",
      " 77  call.37                7129 non-null   object\n",
      "dtypes: int64(38), object(40)\n",
      "memory usage: 4.2+ MB\n"
     ]
    }
   ],
   "source": [
    "train_data.info()"
   ]
  },
  {
   "cell_type": "code",
   "execution_count": 81,
   "metadata": {},
   "outputs": [],
   "source": [
    "train_data = pd.get_dummies(train_data, drop_first=True)"
   ]
  },
  {
   "cell_type": "code",
   "execution_count": 82,
   "metadata": {},
   "outputs": [],
   "source": [
    "scaler = StandardScaler()"
   ]
  },
  {
   "cell_type": "code",
   "execution_count": 83,
   "metadata": {},
   "outputs": [],
   "source": [
    "scaled_Y = scaler.fit_transform(train_data)"
   ]
  },
  {
   "cell_type": "code",
   "execution_count": 84,
   "metadata": {},
   "outputs": [],
   "source": [
    "model = PCA(n_components=2)"
   ]
  },
  {
   "cell_type": "code",
   "execution_count": 85,
   "metadata": {},
   "outputs": [],
   "source": [
    "principal_components1 = model.fit_transform(scaled_Y)"
   ]
  },
  {
   "cell_type": "code",
   "execution_count": 86,
   "metadata": {},
   "outputs": [
    {
     "data": {
      "text/plain": [
       "Text(0, 0.5, 'Second Principal Component')"
      ]
     },
     "execution_count": 86,
     "metadata": {},
     "output_type": "execute_result"
    },
    {
     "data": {
      "image/png": "[encoded data removed]",
      "text/plain": [
       "<Figure size 1000x600 with 1 Axes>"
      ]
     },
     "metadata": {},
     "output_type": "display_data"
    }
   ],
   "source": [
    "plt.figure(figsize=(10,6))\n",
    "plt.scatter(principal_components1[:,1],principal_components1[:,0])\n",
    "plt.xlabel('First principal component')\n",
    "plt.ylabel('Second Principal Component')"
   ]
  },
  {
   "cell_type": "code",
   "execution_count": 87,
   "metadata": {},
   "outputs": [
    {
     "data": {
      "text/plain": [
       "2"
      ]
     },
     "execution_count": 87,
     "metadata": {},
     "output_type": "execute_result"
    }
   ],
   "source": [
    "model.n_components"
   ]
  },
  {
   "cell_type": "code",
   "execution_count": 88,
   "metadata": {},
   "outputs": [
    {
     "data": {
      "text/plain": [
       "array([[ 0.13563518,  0.13561635,  0.1330917 , ...,  0.08910061,\n",
       "         0.00126767,  0.0874186 ],\n",
       "       [ 0.08241284,  0.07893647,  0.07636058, ..., -0.13011445,\n",
       "        -0.0146688 , -0.11616845]])"
      ]
     },
     "execution_count": 88,
     "metadata": {},
     "output_type": "execute_result"
    }
   ],
   "source": [
    "model.components_"
   ]
  },
  {
   "cell_type": "code",
   "execution_count": 89,
   "metadata": {},
   "outputs": [],
   "source": [
    "df_comp1 = pd.DataFrame(model.components_,index=['PC1','PC2'],columns=train_data.columns)"
   ]
  },
  {
   "cell_type": "code",
   "execution_count": 90,
   "metadata": {},
   "outputs": [
    {
     "data": {
      "text/html": [
       "<div>\n",
       "<style scoped>\n",
       "    .dataframe tbody tr th:only-of-type {\n",
       "        vertical-align: middle;\n",
       "    }\n",
       "\n",
       "    .dataframe tbody tr th {\n",
       "        vertical-align: top;\n",
       "    }\n",
       "\n",
       "    .dataframe thead th {\n",
       "        text-align: right;\n",
       "    }\n",
       "</style>\n",
       "<table border=\"1\" class=\"dataframe\">\n",
       "  <thead>\n",
       "    <tr style=\"text-align: right;\">\n",
       "      <th></th>\n",
       "      <th>1</th>\n",
       "      <th>2</th>\n",
       "      <th>3</th>\n",
       "      <th>4</th>\n",
       "      <th>5</th>\n",
       "      <th>6</th>\n",
       "      <th>7</th>\n",
       "      <th>8</th>\n",
       "      <th>9</th>\n",
       "      <th>10</th>\n",
       "      <th>...</th>\n",
       "      <th>call.33_M</th>\n",
       "      <th>call.33_P</th>\n",
       "      <th>call.34_M</th>\n",
       "      <th>call.34_P</th>\n",
       "      <th>call.35_M</th>\n",
       "      <th>call.35_P</th>\n",
       "      <th>call.36_M</th>\n",
       "      <th>call.36_P</th>\n",
       "      <th>call.37_M</th>\n",
       "      <th>call.37_P</th>\n",
       "    </tr>\n",
       "  </thead>\n",
       "  <tbody>\n",
       "    <tr>\n",
       "      <th>PC1</th>\n",
       "      <td>0.135635</td>\n",
       "      <td>0.135616</td>\n",
       "      <td>0.133092</td>\n",
       "      <td>0.135982</td>\n",
       "      <td>0.136671</td>\n",
       "      <td>0.125829</td>\n",
       "      <td>0.129148</td>\n",
       "      <td>0.131517</td>\n",
       "      <td>0.134360</td>\n",
       "      <td>0.131408</td>\n",
       "      <td>...</td>\n",
       "      <td>0.000664</td>\n",
       "      <td>0.088992</td>\n",
       "      <td>-0.000840</td>\n",
       "      <td>0.084958</td>\n",
       "      <td>0.000900</td>\n",
       "      <td>0.091381</td>\n",
       "      <td>-0.000117</td>\n",
       "      <td>0.089101</td>\n",
       "      <td>0.001268</td>\n",
       "      <td>0.087419</td>\n",
       "    </tr>\n",
       "    <tr>\n",
       "      <th>PC2</th>\n",
       "      <td>0.082413</td>\n",
       "      <td>0.078936</td>\n",
       "      <td>0.076361</td>\n",
       "      <td>0.089316</td>\n",
       "      <td>0.082128</td>\n",
       "      <td>0.091322</td>\n",
       "      <td>0.088349</td>\n",
       "      <td>0.087407</td>\n",
       "      <td>0.063705</td>\n",
       "      <td>0.089684</td>\n",
       "      <td>...</td>\n",
       "      <td>-0.008998</td>\n",
       "      <td>-0.119514</td>\n",
       "      <td>-0.005677</td>\n",
       "      <td>-0.127983</td>\n",
       "      <td>-0.013864</td>\n",
       "      <td>-0.122095</td>\n",
       "      <td>-0.011345</td>\n",
       "      <td>-0.130114</td>\n",
       "      <td>-0.014669</td>\n",
       "      <td>-0.116168</td>\n",
       "    </tr>\n",
       "  </tbody>\n",
       "</table>\n",
       "<p>2 rows × 13868 columns</p>\n",
       "</div>"
      ],
      "text/plain": [
       "            1         2         3         4         5         6         7  \\\n",
       "PC1  0.135635  0.135616  0.133092  0.135982  0.136671  0.125829  0.129148   \n",
       "PC2  0.082413  0.078936  0.076361  0.089316  0.082128  0.091322  0.088349   \n",
       "\n",
       "            8         9        10  ...  call.33_M  call.33_P  call.34_M  \\\n",
       "PC1  0.131517  0.134360  0.131408  ...   0.000664   0.088992  -0.000840   \n",
       "PC2  0.087407  0.063705  0.089684  ...  -0.008998  -0.119514  -0.005677   \n",
       "\n",
       "     call.34_P  call.35_M  call.35_P  call.36_M  call.36_P  call.37_M  \\\n",
       "PC1   0.084958   0.000900   0.091381  -0.000117   0.089101   0.001268   \n",
       "PC2  -0.127983  -0.013864  -0.122095  -0.011345  -0.130114  -0.014669   \n",
       "\n",
       "     call.37_P  \n",
       "PC1   0.087419  \n",
       "PC2  -0.116168  \n",
       "\n",
       "[2 rows x 13868 columns]"
      ]
     },
     "execution_count": 90,
     "metadata": {},
     "output_type": "execute_result"
    }
   ],
   "source": [
    "df_comp1"
   ]
  },
  {
   "cell_type": "code",
   "execution_count": 91,
   "metadata": {},
   "outputs": [
    {
     "data": {
      "text/plain": [
       "array([0.00320606, 0.00118327])"
      ]
     },
     "execution_count": 91,
     "metadata": {},
     "output_type": "execute_result"
    }
   ],
   "source": [
    "model.explained_variance_ratio_"
   ]
  },
  {
   "cell_type": "code",
   "execution_count": 92,
   "metadata": {},
   "outputs": [
    {
     "data": {
      "text/plain": [
       "0.004389333025737921"
      ]
     },
     "execution_count": 92,
     "metadata": {},
     "output_type": "execute_result"
    }
   ],
   "source": [
    "np.sum(model.explained_variance_ratio_)"
   ]
  },
  {
   "cell_type": "code",
   "execution_count": 93,
   "metadata": {},
   "outputs": [
    {
     "data": {
      "text/html": [
       "<style>#sk-container-id-3 {color: black;}#sk-container-id-3 pre{padding: 0;}#sk-container-id-3 div.sk-toggleable {background-color: white;}#sk-container-id-3 label.sk-toggleable__label {cursor: pointer;display: block;width: 100%;margin-bottom: 0;padding: 0.3em;box-sizing: border-box;text-align: center;}#sk-container-id-3 label.sk-toggleable__label-arrow:before {content: \"▸\";float: left;margin-right: 0.25em;color: #696969;}#sk-container-id-3 label.sk-toggleable__label-arrow:hover:before {color: black;}#sk-container-id-3 div.sk-estimator:hover label.sk-toggleable__label-arrow:before {color: black;}#sk-container-id-3 div.sk-toggleable__content {max-height: 0;max-width: 0;overflow: hidden;text-align: left;background-color: #f0f8ff;}#sk-container-id-3 div.sk-toggleable__content pre {margin: 0.2em;color: black;border-radius: 0.25em;background-color: #f0f8ff;}#sk-container-id-3 input.sk-toggleable__control:checked~div.sk-toggleable__content {max-height: 200px;max-width: 100%;overflow: auto;}#sk-container-id-3 input.sk-toggleable__control:checked~label.sk-toggleable__label-arrow:before {content: \"▾\";}#sk-container-id-3 div.sk-estimator input.sk-toggleable__control:checked~label.sk-toggleable__label {background-color: #d4ebff;}#sk-container-id-3 div.sk-label input.sk-toggleable__control:checked~label.sk-toggleable__label {background-color: #d4ebff;}#sk-container-id-3 input.sk-hidden--visually {border: 0;clip: rect(1px 1px 1px 1px);clip: rect(1px, 1px, 1px, 1px);height: 1px;margin: -1px;overflow: hidden;padding: 0;position: absolute;width: 1px;}#sk-container-id-3 div.sk-estimator {font-family: monospace;background-color: #f0f8ff;border: 1px dotted black;border-radius: 0.25em;box-sizing: border-box;margin-bottom: 0.5em;}#sk-container-id-3 div.sk-estimator:hover {background-color: #d4ebff;}#sk-container-id-3 div.sk-parallel-item::after {content: \"\";width: 100%;border-bottom: 1px solid gray;flex-grow: 1;}#sk-container-id-3 div.sk-label:hover label.sk-toggleable__label {background-color: #d4ebff;}#sk-container-id-3 div.sk-serial::before {content: \"\";position: absolute;border-left: 1px solid gray;box-sizing: border-box;top: 0;bottom: 0;left: 50%;z-index: 0;}#sk-container-id-3 div.sk-serial {display: flex;flex-direction: column;align-items: center;background-color: white;padding-right: 0.2em;padding-left: 0.2em;position: relative;}#sk-container-id-3 div.sk-item {position: relative;z-index: 1;}#sk-container-id-3 div.sk-parallel {display: flex;align-items: stretch;justify-content: center;background-color: white;position: relative;}#sk-container-id-3 div.sk-item::before, #sk-container-id-3 div.sk-parallel-item::before {content: \"\";position: absolute;border-left: 1px solid gray;box-sizing: border-box;top: 0;bottom: 0;left: 50%;z-index: -1;}#sk-container-id-3 div.sk-parallel-item {display: flex;flex-direction: column;z-index: 1;position: relative;background-color: white;}#sk-container-id-3 div.sk-parallel-item:first-child::after {align-self: flex-end;width: 50%;}#sk-container-id-3 div.sk-parallel-item:last-child::after {align-self: flex-start;width: 50%;}#sk-container-id-3 div.sk-parallel-item:only-child::after {width: 0;}#sk-container-id-3 div.sk-dashed-wrapped {border: 1px dashed gray;margin: 0 0.4em 0.5em 0.4em;box-sizing: border-box;padding-bottom: 0.4em;background-color: white;}#sk-container-id-3 div.sk-label label {font-family: monospace;font-weight: bold;display: inline-block;line-height: 1.2em;}#sk-container-id-3 div.sk-label-container {text-align: center;}#sk-container-id-3 div.sk-container {/* jupyter's `normalize.less` sets `[hidden] { display: none; }` but bootstrap.min.css set `[hidden] { display: none !important; }` so we also need the `!important` here to be able to override the default hidden behavior on the sphinx rendered scikit-learn.org. See: https://github.com/scikit-learn/scikit-learn/issues/21755 */display: inline-block !important;position: relative;}#sk-container-id-3 div.sk-text-repr-fallback {display: none;}</style><div id=\"sk-container-id-3\" class=\"sk-top-container\"><div class=\"sk-text-repr-fallback\"><pre>PCA(n_components=50)</pre><b>In a Jupyter environment, please rerun this cell to show the HTML representation or trust the notebook. <br />On GitHub, the HTML representation is unable to render, please try loading this page with nbviewer.org.</b></div><div class=\"sk-container\" hidden><div class=\"sk-item\"><div class=\"sk-estimator sk-toggleable\"><input class=\"sk-toggleable__control sk-hidden--visually\" id=\"sk-estimator-id-3\" type=\"checkbox\" checked><label for=\"sk-estimator-id-3\" class=\"sk-toggleable__label sk-toggleable__label-arrow\">PCA</label><div class=\"sk-toggleable__content\"><pre>PCA(n_components=50)</pre></div></div></div></div></div>"
      ],
      "text/plain": [
       "PCA(n_components=50)"
      ]
     },
     "execution_count": 93,
     "metadata": {},
     "output_type": "execute_result"
    }
   ],
   "source": [
    "pca_50 = PCA(n_components=50)\n",
    "pca_50.fit(scaled_Y)"
   ]
  },
  {
   "cell_type": "code",
   "execution_count": 94,
   "metadata": {},
   "outputs": [
    {
     "data": {
      "text/plain": [
       "array([0.00320606, 0.00118327, 0.00031838, 0.00023296, 0.00022148,\n",
       "       0.00021955, 0.00021665, 0.00021535, 0.00021301, 0.00021145,\n",
       "       0.00020935, 0.00020915, 0.00020865, 0.00020396, 0.00020237,\n",
       "       0.00020072, 0.00019829, 0.00019806, 0.00019691, 0.00019506,\n",
       "       0.00019354, 0.00019105, 0.00018979, 0.00018897, 0.00018324,\n",
       "       0.00018272, 0.00018239, 0.00018038, 0.00017757, 0.00017517,\n",
       "       0.00017319, 0.00017305, 0.00016965, 0.00016873, 0.00016536,\n",
       "       0.00016391, 0.00016356, 0.00015871, 0.0001539 , 0.0001534 ,\n",
       "       0.00015311, 0.0001522 , 0.00014928, 0.00014805, 0.00014784,\n",
       "       0.00014678, 0.00014653, 0.00014612, 0.00014589, 0.0001457 ])"
      ]
     },
     "execution_count": 94,
     "metadata": {},
     "output_type": "execute_result"
    }
   ],
   "source": [
    "pca_50.explained_variance_ratio_"
   ]
  },
  {
   "cell_type": "code",
   "execution_count": 95,
   "metadata": {},
   "outputs": [
    {
     "data": {
      "text/plain": [
       "0.013230480646624238"
      ]
     },
     "execution_count": 95,
     "metadata": {},
     "output_type": "execute_result"
    }
   ],
   "source": [
    "np.sum(pca_50.explained_variance_ratio_)"
   ]
  },
  {
   "cell_type": "code",
   "execution_count": 96,
   "metadata": {},
   "outputs": [],
   "source": [
    "explained_variance = []\n",
    "\n",
    "for n in range(1,30):\n",
    "    pca = PCA(n_components=n)\n",
    "    pca.fit(scaled_Y)\n",
    "    \n",
    "    explained_variance.append(np.sum(pca.explained_variance_ratio_))"
   ]
  },
  {
   "cell_type": "code",
   "execution_count": 97,
   "metadata": {},
   "outputs": [],
   "source": [
    "y_true = np.random.randint(2, size=100)\n",
    "y_scores = np.random.rand(100)"
   ]
  }
 ],
 "metadata": {
  "kernelspec": {
   "display_name": "Python 3 (ipykernel)",
   "language": "python",
   "name": "python3"
  },
  "language_info": {
   "codemirror_mode": {
    "name": "ipython",
    "version": 3
   },
   "file_extension": ".py",
   "mimetype": "text/x-python",
   "name": "python",
   "nbconvert_exporter": "python",
   "pygments_lexer": "ipython3",
   "version": "3.11.5"
  }
 },
 "nbformat": 4,
 "nbformat_minor": 4
}
